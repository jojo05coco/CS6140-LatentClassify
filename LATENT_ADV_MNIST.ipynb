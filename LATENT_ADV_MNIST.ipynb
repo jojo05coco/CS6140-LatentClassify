{
 "cells": [
  {
   "cell_type": "code",
   "execution_count": 1,
   "metadata": {},
   "outputs": [],
   "source": [
    "%matplotlib inline\n",
    "import matplotlib.pyplot as plt"
   ]
  },
  {
   "cell_type": "code",
   "execution_count": 2,
   "metadata": {},
   "outputs": [
    {
     "name": "stdout",
     "output_type": "stream",
     "text": [
      "2.7.15 |Anaconda, Inc.| (default, Nov 13 2018, 17:07:45) \n",
      "[GCC 4.2.1 Compatible Clang 4.0.1 (tags/RELEASE_401/final)]\n"
     ]
    }
   ],
   "source": [
    "import sys\n",
    "print (sys.version)"
   ]
  },
  {
   "cell_type": "code",
   "execution_count": 100,
   "metadata": {},
   "outputs": [],
   "source": [
    "import numpy as np\n",
    "import matplotlib.pyplot as plt\n",
    "%matplotlib inline\n",
    "from mpl_toolkits.mplot3d import Axes3D\n",
    "import importlib\n",
    "import pandas as pd\n",
    "from scipy.stats import bernoulli\n",
    "from matplotlib import cm\n",
    "from numpy import linalg as LA\n",
    "from mpl_toolkits.mplot3d import Axes3D # This import has side effects required for the kwarg projection='3d' in the call to fig.add_subplot\n",
    "import random\n",
    "import pickle\n",
    "\n",
    "import generative_lib"
   ]
  },
  {
   "cell_type": "code",
   "execution_count": 101,
   "metadata": {},
   "outputs": [],
   "source": [
    "import torch\n",
    "import torch.nn.functional as F\n",
    "from torchvision import datasets\n",
    "from torchvision import transforms\n",
    "from torch.utils.data import DataLoader\n",
    "from torch.autograd import Variable"
   ]
  },
  {
   "cell_type": "code",
   "execution_count": 146,
   "metadata": {},
   "outputs": [
    {
     "data": {
      "text/plain": [
       "<module 'generative_lib' from 'generative_lib.py'>"
      ]
     },
     "execution_count": 146,
     "metadata": {},
     "output_type": "execute_result"
    }
   ],
   "source": [
    "reload(generative_lib)"
   ]
  },
  {
   "cell_type": "code",
   "execution_count": 103,
   "metadata": {},
   "outputs": [],
   "source": [
    "from classifiers import AdversarialExample"
   ]
  },
  {
   "cell_type": "code",
   "execution_count": 104,
   "metadata": {},
   "outputs": [],
   "source": [
    "def load_pkl(path, delta = 500.0):\n",
    "    af = open(adversary_path, \"rb\")\n",
    "    exs = pickle.load(af)\n",
    "    af.close()\n",
    "\n",
    "    # remove all adversary that is None\n",
    "    exs = filter(lambda ex: ex is not None, exs)\n",
    "    # remove all adversary whose norm is > delta\n",
    "    exs = filter(lambda ex: ex.adv_diff_norm < delta, exs)\n",
    "    # sort examples by increasing diff norm\n",
    "    exs.sort(key = lambda ex: ex.adv_diff_norm)\n",
    "    \n",
    "    return exs"
   ]
  },
  {
   "cell_type": "code",
   "execution_count": 128,
   "metadata": {},
   "outputs": [
    {
     "name": "stdout",
     "output_type": "stream",
     "text": [
      "Model :  Logistic_LRL\n",
      "x shape               : torch.Size([1, 784])\n",
      "adversary shape       : torch.Size([1, 784])\n",
      "True label            : 9\n",
      "Make model think      : 4\n",
      "||x - adversary||2    : 0.14367643\n",
      "model probs. with x   : \n",
      "[0.   0.   0.   0.   0.19 0.01 0.   0.01 0.   0.79]\n",
      "model probs. with adv : \n",
      "[0.   0.   0.   0.   0.52 0.01 0.   0.01 0.   0.45]\n",
      "\n"
     ]
    },
    {
     "data": {
      "image/png": "[encoded data removed]",
      "text/plain": [
       "<Figure size 1080x360 with 3 Axes>"
      ]
     },
     "metadata": {
      "needs_background": "light"
     },
     "output_type": "display_data"
    }
   ],
   "source": [
    "orig_adversary_path = 'adversary_dataset/CONFIDENCE_50/mnist_img_advex/Logistic_LRL_advex/advex.pkl'\n",
    "\n",
    "exs = load_pkl(orig_adversary_path)\n",
    "\n",
    "for ex in exs:\n",
    "    print ex\n",
    "    ex.show()\n",
    "    break"
   ]
  },
  {
   "cell_type": "code",
   "execution_count": 119,
   "metadata": {},
   "outputs": [],
   "source": [
    "image_width = 28"
   ]
  },
  {
   "cell_type": "code",
   "execution_count": 120,
   "metadata": {},
   "outputs": [
    {
     "data": {
      "text/plain": [
       "<matplotlib.image.AxesImage at 0x1a24171290>"
      ]
     },
     "execution_count": 120,
     "metadata": {},
     "output_type": "execute_result"
    },
    {
     "data": {
      "image/png": "[encoded data removed]",
      "text/plain": [
       "<Figure size 432x288 with 1 Axes>"
      ]
     },
     "metadata": {
      "needs_background": "light"
     },
     "output_type": "display_data"
    }
   ],
   "source": [
    "# Random img in the test set\n",
    "test_img = ex.x\n",
    "plt.imshow(test_img.reshape([image_width,image_width]),cmap='binary')"
   ]
  },
  {
   "cell_type": "code",
   "execution_count": 121,
   "metadata": {},
   "outputs": [],
   "source": [
    "pathAE = 'trained_models/AE_MNIST.pt'\n",
    "num_features = 784\n",
    "num_hidden_1 = 32\n",
    "\n",
    "AE = generative_lib.AE_1L(num_features,num_hidden_1)\n",
    "AE.load_state_dict(torch.load(pathAE))\n",
    "AE.eval()\n",
    "\n",
    "AEgen = generative_lib.AEcopyGen(AE,num_features,num_hidden_1)"
   ]
  },
  {
   "cell_type": "code",
   "execution_count": 122,
   "metadata": {},
   "outputs": [
    {
     "data": {
      "text/plain": [
       "<matplotlib.image.AxesImage at 0x1a23cb1610>"
      ]
     },
     "execution_count": 122,
     "metadata": {},
     "output_type": "execute_result"
    },
    {
     "data": {
      "image/png": "[encoded data removed]",
      "text/plain": [
       "<Figure size 432x288 with 1 Axes>"
      ]
     },
     "metadata": {
      "needs_background": "light"
     },
     "output_type": "display_data"
    }
   ],
   "source": [
    "# Reconstruction using autoencoder\n",
    "test_enc = AE.encoder(test_img.reshape(image_width*image_width))\n",
    "test_dec = AE.decoder(test_enc).detach().numpy()\n",
    "\n",
    "plt.imshow(test_dec.reshape([image_width,image_width]),cmap='binary')"
   ]
  },
  {
   "cell_type": "code",
   "execution_count": 123,
   "metadata": {},
   "outputs": [
    {
     "data": {
      "text/plain": [
       "<matplotlib.image.AxesImage at 0x1a236af2d0>"
      ]
     },
     "execution_count": 123,
     "metadata": {},
     "output_type": "execute_result"
    },
    {
     "data": {
      "image/png": "[encoded data removed]",
      "text/plain": [
       "<Figure size 432x288 with 1 Axes>"
      ]
     },
     "metadata": {
      "needs_background": "light"
     },
     "output_type": "display_data"
    }
   ],
   "source": [
    "# reconstruction by projection\n",
    "maxit = 500\n",
    "gamma  = 0.5\n",
    "x0    = test_enc*20-10\n",
    "Gstar = test_img.reshape(image_width*image_width) #model.decoder(test_enc).detach()\n",
    "rand_init = 5\n",
    "sigma = 5\n",
    "\n",
    "[l2_loss_var,xk2] = generative_lib.Full_Projection(AEgen, Gstar, maxit, gamma, rand_init, sigma, x0, generative_lib.L2_Project)\n",
    "\n",
    "pctk2 = AEgen(xk2)\n",
    "plt.imshow(pctk2.cpu().detach().numpy().reshape(28,28),  cmap='Greys')"
   ]
  },
  {
   "cell_type": "markdown",
   "metadata": {},
   "source": [
    "# MNIST"
   ]
  },
  {
   "cell_type": "markdown",
   "metadata": {},
   "source": [
    "## 50 %"
   ]
  },
  {
   "cell_type": "code",
   "execution_count": 141,
   "metadata": {},
   "outputs": [],
   "source": [
    "adv_path = 'adversary_dataset/CONFIDENCE_50/mnist_img_advex/'\n",
    "pkl_path = '/advex.pkl'"
   ]
  },
  {
   "cell_type": "markdown",
   "metadata": {},
   "source": [
    "### AutoEncoder"
   ]
  },
  {
   "cell_type": "code",
   "execution_count": 142,
   "metadata": {},
   "outputs": [],
   "source": [
    "pathAE = 'trained_models/AE_MNIST.pt'\n",
    "num_features = 784\n",
    "num_hidden_1 = 32\n",
    "\n",
    "AE = generative_lib.AE_1L(num_features,num_hidden_1)\n",
    "AE.load_state_dict(torch.load(pathAE))\n",
    "AE.eval()\n",
    "\n",
    "AEgen = generative_lib.AEcopyGen(AE,num_features,num_hidden_1)"
   ]
  },
  {
   "cell_type": "code",
   "execution_count": 143,
   "metadata": {},
   "outputs": [],
   "source": [
    "AE_latent_L2  = [];\n",
    "AE_latent     = [];\n",
    "\n",
    "# reconstruction by projection\n",
    "maxit = 500\n",
    "gamma  = 0.5\n",
    "x0    = torch.zeros([num_hidden_1])\n",
    "rand_init = 1\n",
    "sigma = 5"
   ]
  },
  {
   "cell_type": "code",
   "execution_count": 144,
   "metadata": {},
   "outputs": [
    {
     "name": "stdout",
     "output_type": "stream",
     "text": [
      "Logistic_1L_advex\n",
      "Logistic_2L_advex\n",
      "Logistic_LRL_advex\n"
     ]
    }
   ],
   "source": [
    "folders = ['Logistic_1L_advex', 'Logistic_2L_advex', 'Logistic_LRL_advex']\n",
    "\n",
    "for folder in folders:\n",
    "    # load adversary\n",
    "    adversary_path = adv_path+folder+pkl_path\n",
    "    exs = load_pkl(adversary_path)\n",
    "    \n",
    "    print(folder)\n",
    "    \n",
    "    for ex in exs:\n",
    "        Gstar = ex.x.reshape(image_width*image_width)\n",
    "        \n",
    "        # latent via encoder\n",
    "        latEnc = AE.encoder(Gstar)\n",
    "        AE_latent.append(latEnc)\n",
    "    \n",
    "        # latent via projection\n",
    "        Gstar = ex.x.reshape(image_width*image_width) #model.decoder(test_enc).detach()\n",
    "        [_,latL2] = generative_lib.Full_Projection(AEgen, Gstar, maxit, gamma, rand_init, sigma, x0, generative_lib.L2_Project)\n",
    "        AE_latent_L2.append(latL2)\n",
    "    \n",
    "    # save latents via Encoder\n",
    "    pickle_f = open(adv_path+folder+'AE_latent.pkl', \"w+\")\n",
    "    pickle.dump(AE_latent, pickle_f)\n",
    "    pickle_f.close()\n",
    "    \n",
    "    # save latents via Projection\n",
    "    pickle_f = open(adv_path+folder+'AE_latent_L2.pkl', \"w+\")\n",
    "    pickle.dump(AE_latent_L2, pickle_f)\n",
    "    pickle_f.close()"
   ]
  },
  {
   "cell_type": "markdown",
   "metadata": {},
   "source": [
    "### Variational AE "
   ]
  },
  {
   "cell_type": "code",
   "execution_count": 147,
   "metadata": {},
   "outputs": [],
   "source": [
    "pathVAE = 'trained_models/VAE_MNIST.pt'\n",
    "num_features = 784\n",
    "num_hidden_1 = 150\n",
    "num_latent   = 32\n",
    "\n",
    "VAE = generative_lib.VAE(num_features,num_hidden_1,num_latent)\n",
    "VAE.load_state_dict(torch.load(pathVAE))\n",
    "VAE.eval()\n",
    "\n",
    "VAEgen = generative_lib.VAEcopyGen(VAE,num_features,num_hidden_1,num_latent)"
   ]
  },
  {
   "cell_type": "code",
   "execution_count": 151,
   "metadata": {},
   "outputs": [],
   "source": [
    "VAE_latent_L2  = [];\n",
    "VAE_latent     = [];\n",
    "\n",
    "# reconstruction by projection\n",
    "maxit = 500\n",
    "gamma  = 0.5\n",
    "x0    = torch.zeros([num_latent])\n",
    "rand_init = 1\n",
    "sigma = 5"
   ]
  },
  {
   "cell_type": "code",
   "execution_count": 153,
   "metadata": {},
   "outputs": [
    {
     "name": "stdout",
     "output_type": "stream",
     "text": [
      "Logistic_1L_advex\n",
      "Logistic_2L_advex\n",
      "Logistic_LRL_advex\n"
     ]
    }
   ],
   "source": [
    "folders = ['Logistic_1L_advex', 'Logistic_2L_advex', 'Logistic_LRL_advex']\n",
    "\n",
    "for folder in folders:\n",
    "    # load adversary\n",
    "    adversary_path = adv_path+folder+pkl_path\n",
    "    exs = load_pkl(adversary_path)\n",
    "    \n",
    "    print(folder)\n",
    "\n",
    "    for ex in exs:\n",
    "        Gstar = ex.x.reshape([1,image_width*image_width])\n",
    "        \n",
    "        # latent via encoder\n",
    "        [latEnc,z_mean,z_log_var] = VAE.encoder(Gstar)\n",
    "        VAE_latent.append(latEnc)\n",
    "    \n",
    "        # latent via projection\n",
    "        Gstar = ex.x.reshape(image_width*image_width) #model.decoder(test_enc).detach()\n",
    "        [_,latL2] = generative_lib.Full_Projection(VAEgen, Gstar, maxit, gamma, rand_init, sigma, x0, generative_lib.L2_Project)\n",
    "        VAE_latent_L2.append(latL2)\n",
    "    \n",
    "    # save latents via Encoder\n",
    "    pickle_f = open(adv_path+folder+'VAE_latent.pkl', \"w+\")\n",
    "    pickle.dump(VAE_latent, pickle_f)\n",
    "    pickle_f.close()\n",
    "    \n",
    "    # save latents via Projection\n",
    "    pickle_f = open(adv_path+folder+'VAE_latent_L2.pkl', \"w+\")\n",
    "    pickle.dump(VAE_latent_L2, pickle_f)\n",
    "    pickle_f.close()"
   ]
  },
  {
   "cell_type": "code",
   "execution_count": null,
   "metadata": {},
   "outputs": [],
   "source": []
  }
 ],
 "metadata": {
  "kernelspec": {
   "display_name": "Python [conda env:DL27]",
   "language": "python",
   "name": "conda-env-DL27-py"
  },
  "language_info": {
   "codemirror_mode": {
    "name": "ipython",
    "version": 2
   },
   "file_extension": ".py",
   "mimetype": "text/x-python",
   "name": "python",
   "nbconvert_exporter": "python",
   "pygments_lexer": "ipython2",
   "version": "2.7.15"
  }
 },
 "nbformat": 4,
 "nbformat_minor": 2
}
