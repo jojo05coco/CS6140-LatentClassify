{
 "cells": [
  {
   "cell_type": "code",
   "execution_count": 1,
   "metadata": {},
   "outputs": [],
   "source": [
    "%matplotlib inline"
   ]
  },
  {
   "cell_type": "code",
   "execution_count": 2,
   "metadata": {},
   "outputs": [],
   "source": [
    "import itertools\n",
    "import math\n",
    "import time\n",
    "\n",
    "import torch\n",
    "import torchvision\n",
    "import torch.nn as nn\n",
    "import torchvision.datasets as dsets\n",
    "import torchvision.transforms as transforms\n",
    "import matplotlib.pyplot as plt\n",
    "from IPython import display\n",
    "from torch.autograd import Variable"
   ]
  },
  {
   "cell_type": "markdown",
   "metadata": {},
   "source": [
    "## Load Generator"
   ]
  },
  {
   "cell_type": "code",
   "execution_count": 6,
   "metadata": {},
   "outputs": [],
   "source": [
    "hidden = 15\n",
    "class Generator(nn.Module):\n",
    "    def __init__(self):\n",
    "        super().__init__()\n",
    "        self.model = nn.Sequential(\n",
    "            nn.Linear(hidden, 30, bias = False),\n",
    "            nn.ReLU(inplace=True),\n",
    "            nn.Linear(30, 50, bias = False),\n",
    "            nn.ReLU(inplace=True),\n",
    "            nn.Linear(50, 100, bias = False),\n",
    "            nn.ReLU(inplace=True),\n",
    "            nn.Linear(100, 784, bias = False),\n",
    "            nn.Tanh()\n",
    "        )\n",
    "    \n",
    "    def forward(self, x):\n",
    "        x = x.view(x.size(0), hidden)\n",
    "        out = self.model(x)\n",
    "        return out"
   ]
  },
  {
   "cell_type": "code",
   "execution_count": 8,
   "metadata": {},
   "outputs": [
    {
     "data": {
      "text/plain": [
       "Generator(\n",
       "  (model): Sequential(\n",
       "    (0): Linear(in_features=15, out_features=30, bias=False)\n",
       "    (1): ReLU(inplace)\n",
       "    (2): Linear(in_features=30, out_features=50, bias=False)\n",
       "    (3): ReLU(inplace)\n",
       "    (4): Linear(in_features=50, out_features=100, bias=False)\n",
       "    (5): ReLU(inplace)\n",
       "    (6): Linear(in_features=100, out_features=784, bias=False)\n",
       "    (7): Tanh()\n",
       "  )\n",
       ")"
      ]
     },
     "execution_count": 8,
     "metadata": {},
     "output_type": "execute_result"
    }
   ],
   "source": [
    "generator = Generator()\n",
    "generator.load_state_dict(torch.load('trained_gan.pt' ,map_location='cpu'))\n",
    "generator.eval()"
   ]
  },
  {
   "cell_type": "code",
   "execution_count": 9,
   "metadata": {},
   "outputs": [],
   "source": [
    "# freeze weigths\n",
    "def froze_weights(net):\n",
    "    for param in net.parameters():\n",
    "        param.requires_grad = False"
   ]
  },
  {
   "cell_type": "code",
   "execution_count": 10,
   "metadata": {},
   "outputs": [],
   "source": [
    "froze_weights(generator)"
   ]
  },
  {
   "cell_type": "markdown",
   "metadata": {},
   "source": [
    "## Projection Step"
   ]
  },
  {
   "cell_type": "code",
   "execution_count": 65,
   "metadata": {},
   "outputs": [
    {
     "data": {
      "text/plain": [
       "<matplotlib.image.AxesImage at 0xa22407fd0>"
      ]
     },
     "execution_count": 65,
     "metadata": {},
     "output_type": "execute_result"
    },
    {
     "data": {
      "image/png": "[encoded data removed]",
      "text/plain": [
       "<matplotlib.figure.Figure at 0xa222f8d68>"
      ]
     },
     "metadata": {},
     "output_type": "display_data"
    }
   ],
   "source": [
    "xstar = torch.randn([1,hidden])\n",
    "img_star = generator(xstar)\n",
    "plt.imshow(img_star.detach().numpy().reshape(28,28),  cmap='Greys')"
   ]
  },
  {
   "cell_type": "code",
   "execution_count": 67,
   "metadata": {},
   "outputs": [],
   "source": [
    "gamma = 0.0007;\n",
    "steps = 2000;\n",
    "init = 7\n",
    "min_loss = 10000;\n",
    "xmin     = 0;"
   ]
  },
  {
   "cell_type": "code",
   "execution_count": 68,
   "metadata": {},
   "outputs": [
    {
     "name": "stdout",
     "output_type": "stream",
     "text": [
      "Init:  1 \n",
      "loss:  2.9624317\n",
      "|x^star - xk| 3.0654876\n",
      "\n",
      "Init:  2 \n",
      "loss:  8.35383\n",
      "|x^star - xk| 3.4565518\n",
      "\n",
      "Init:  3 \n",
      "loss:  43.60634\n",
      "|x^star - xk| 4.3249865\n",
      "\n",
      "Init:  4 \n",
      "loss:  11.206227\n",
      "|x^star - xk| 4.381526\n",
      "\n",
      "Init:  5 \n",
      "loss:  38.692448\n",
      "|x^star - xk| 5.2707314\n",
      "\n",
      "Init:  6 \n",
      "loss:  8.009797\n",
      "|x^star - xk| 3.1182039\n",
      "\n",
      "Init:  7 \n",
      "loss:  8.518957\n",
      "|x^star - xk| 4.4207287\n",
      "\n"
     ]
    },
    {
     "data": {
      "text/plain": [
       "<matplotlib.image.AxesImage at 0xa225bd6d8>"
      ]
     },
     "execution_count": 68,
     "metadata": {},
     "output_type": "execute_result"
    },
    {
     "data": {
      "image/png": "[encoded data removed]",
      "text/plain": [
       "<matplotlib.figure.Figure at 0xa22563668>"
      ]
     },
     "metadata": {},
     "output_type": "display_data"
    }
   ],
   "source": [
    "for j in range(init):\n",
    "    xk = Variable(torch.randn(xstar.size()), requires_grad=True)\n",
    "    for i in range(steps):\n",
    "        Gxk = generator(xk);\n",
    "        l2_loss_var = ((Gxk-img_star).norm())**2\n",
    "        l2_loss_var.backward()\n",
    "        xk.data -= gamma*xk.grad.data\n",
    "        xk.grad.data.zero_();\n",
    "    print('Init: ', j+1, '\\nloss: ', l2_loss_var.detach().numpy());\n",
    "    print('|x^star - xk|', (xstar-xk).norm().detach().numpy());\n",
    "    print()\n",
    "    if(l2_loss_var < min_loss):\n",
    "        xmin = xk\n",
    "        \n",
    "pct_min = generator(xmin)\n",
    "plt.imshow(pct_min.detach().numpy().reshape(28,28),  cmap='Greys')"
   ]
  },
  {
   "cell_type": "code",
   "execution_count": 78,
   "metadata": {},
   "outputs": [],
   "source": [
    "# Dataset\n",
    "DOWNLOAD = False\n",
    "SHUFFLE_TR = True\n",
    "SHUFFLE_TS = False\n",
    "\n",
    "# Architecture\n",
    "num_features = 784\n",
    "num_hidden_1 = 32\n",
    "random_seed  = 123\n",
    "\n",
    "# Training\n",
    "batch_size = 28\n",
    "learning_rate = 0.005\n",
    "num_epochs = 6\n",
    "\n",
    "# Data\n",
    "image_width = 28"
   ]
  },
  {
   "cell_type": "code",
   "execution_count": 79,
   "metadata": {},
   "outputs": [],
   "source": [
    "import torch\n",
    "import torch.nn.functional as F\n",
    "from torchvision import datasets\n",
    "from torchvision import transforms\n",
    "from torch.utils.data import DataLoader\n",
    "import random"
   ]
  },
  {
   "cell_type": "code",
   "execution_count": 80,
   "metadata": {},
   "outputs": [],
   "source": [
    "DOWNLOAD = False\n",
    "\n",
    "# Note transforms.ToTensor() scales input images to 0-1 range\n",
    "train_dataset = datasets.MNIST(root='data', \n",
    "                               train=True, \n",
    "                               transform=transforms.ToTensor(),\n",
    "                               download=DOWNLOAD)\n",
    "\n",
    "test_dataset = datasets.MNIST(root='data', \n",
    "                              train=False, \n",
    "                              transform=transforms.ToTensor())"
   ]
  },
  {
   "cell_type": "code",
   "execution_count": 103,
   "metadata": {},
   "outputs": [
    {
     "data": {
      "image/png": "[encoded data removed]",
      "text/plain": [
       "<matplotlib.figure.Figure at 0xa2a1cd160>"
      ]
     },
     "metadata": {},
     "output_type": "display_data"
    }
   ],
   "source": [
    "# Random img in the test set\n",
    "test_img = test_dataset[random.randint(0, len(test_dataset))][0]\n",
    "plt.imshow(test_img.reshape([image_width,image_width]),cmap='binary')\n",
    "img_star = test_img.reshape([1,image_width*image_width])"
   ]
  },
  {
   "cell_type": "code",
   "execution_count": 104,
   "metadata": {},
   "outputs": [],
   "source": [
    "gamma = 0.0007;\n",
    "steps = 20000;\n",
    "init = 3\n",
    "min_loss = 10000;\n",
    "xmin     = 0;"
   ]
  },
  {
   "cell_type": "code",
   "execution_count": null,
   "metadata": {},
   "outputs": [
    {
     "name": "stdout",
     "output_type": "stream",
     "text": [
      "Init:  1 \n",
      "loss:  875.9489\n",
      "\n"
     ]
    }
   ],
   "source": [
    "for j in range(init):\n",
    "    xk = Variable(10*torch.randn(xstar.size()), requires_grad=True)\n",
    "    for i in range(steps):\n",
    "        Gxk = generator(xk);\n",
    "        l2_loss_var = ((Gxk-img_star).norm())**2\n",
    "        l2_loss_var.backward()\n",
    "        xk.data -= gamma*xk.grad.data\n",
    "        xk.grad.data.zero_();\n",
    "    print('Init: ', j+1, '\\nloss: ', l2_loss_var.detach().numpy());\n",
    "    #print('|x^star - xk|', (xstar-xk).norm().detach().numpy());\n",
    "    print()\n",
    "    if(l2_loss_var < min_loss):\n",
    "        xmin = xk\n",
    "        \n",
    "pct_min = generator(xmin)\n",
    "plt.imshow(pct_min.detach().numpy().reshape(28,28),  cmap='Greys')"
   ]
  },
  {
   "cell_type": "code",
   "execution_count": null,
   "metadata": {},
   "outputs": [],
   "source": []
  }
 ],
 "metadata": {
  "kernelspec": {
   "display_name": "Python [default]",
   "language": "python",
   "name": "python3"
  },
  "language_info": {
   "codemirror_mode": {
    "name": "ipython",
    "version": 3
   },
   "file_extension": ".py",
   "mimetype": "text/x-python",
   "name": "python",
   "nbconvert_exporter": "python",
   "pygments_lexer": "ipython3",
   "version": "3.6.7"
  }
 },
 "nbformat": 4,
 "nbformat_minor": 2
}
