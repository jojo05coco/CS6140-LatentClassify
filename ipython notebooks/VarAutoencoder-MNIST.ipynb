{
 "cells": [
  {
   "cell_type": "markdown",
   "metadata": {},
   "source": [
    "# Variational Autoencoder"
   ]
  },
  {
   "cell_type": "code",
   "execution_count": 8,
   "metadata": {},
   "outputs": [],
   "source": [
    "%matplotlib inline\n",
    "import matplotlib.pyplot as plt"
   ]
  },
  {
   "cell_type": "code",
   "execution_count": 9,
   "metadata": {},
   "outputs": [
    {
     "name": "stdout",
     "output_type": "stream",
     "text": [
      "3.6.7 |Anaconda, Inc.| (default, Oct 23 2018, 14:01:38) \n",
      "[GCC 4.2.1 Compatible Clang 4.0.1 (tags/RELEASE_401/final)]\n"
     ]
    }
   ],
   "source": [
    "import sys\n",
    "print (sys.version)"
   ]
  },
  {
   "cell_type": "code",
   "execution_count": 10,
   "metadata": {},
   "outputs": [],
   "source": [
    "import numpy as np\n",
    "import matplotlib.pyplot as plt\n",
    "%matplotlib inline\n",
    "from mpl_toolkits.mplot3d import Axes3D\n",
    "import importlib\n",
    "import pandas as pd\n",
    "from scipy.stats import bernoulli\n",
    "from matplotlib import cm\n",
    "from numpy import linalg as LA\n",
    "from mpl_toolkits.mplot3d import Axes3D # This import has side effects required for the kwarg projection='3d' in the call to fig.add_subplot\n",
    "import random\n",
    "\n",
    "import generative_lib"
   ]
  },
  {
   "cell_type": "code",
   "execution_count": 56,
   "metadata": {},
   "outputs": [
    {
     "data": {
      "text/plain": [
       "<module 'generative_lib' from '/Users/joriococola/Desktop/CS 6140/project 6140/GitHub/CS6140_LatentClassify/ipython notebooks/generative_lib.py'>"
      ]
     },
     "execution_count": 56,
     "metadata": {},
     "output_type": "execute_result"
    }
   ],
   "source": [
    "importlib.reload(generative_lib)"
   ]
  },
  {
   "cell_type": "code",
   "execution_count": 12,
   "metadata": {},
   "outputs": [],
   "source": [
    "import torch\n",
    "import torch.nn.functional as F\n",
    "from torchvision import datasets\n",
    "from torchvision import transforms\n",
    "from torch.utils.data import DataLoader"
   ]
  },
  {
   "cell_type": "markdown",
   "metadata": {},
   "source": [
    "## Setting"
   ]
  },
  {
   "cell_type": "code",
   "execution_count": 13,
   "metadata": {},
   "outputs": [],
   "source": [
    "# Dataset\n",
    "random_seed = 123\n",
    "DOWNLOAD = True\n",
    "SHUFFLE_TR = True\n",
    "SHUFFLE_TS = False\n",
    "\n",
    "# Architecture\n",
    "num_features = 784\n",
    "num_hidden_1 = 500\n",
    "num_latent = 15\n",
    "\n",
    "device = \"cpu\"\n",
    "\n",
    "# Training\n",
    "learning_rate = 0.001\n",
    "num_epochs = 6\n",
    "batch_size = 28"
   ]
  },
  {
   "cell_type": "markdown",
   "metadata": {},
   "source": [
    "## MNIST DATASET"
   ]
  },
  {
   "cell_type": "code",
   "execution_count": 14,
   "metadata": {},
   "outputs": [],
   "source": [
    "# Note transforms.ToTensor() scales input images to 0-1 range\n",
    "train_dataset = datasets.MNIST(root='data', \n",
    "                               train=True, \n",
    "                               transform=transforms.ToTensor(),\n",
    "                               download=DOWNLOAD)\n",
    "\n",
    "test_dataset = datasets.MNIST(root='data', \n",
    "                              train=False, \n",
    "                              transform=transforms.ToTensor())"
   ]
  },
  {
   "cell_type": "code",
   "execution_count": 15,
   "metadata": {},
   "outputs": [
    {
     "name": "stdout",
     "output_type": "stream",
     "text": [
      "Image batch dimensions: torch.Size([28, 1, 28, 28])\n",
      "Image label dimensions: torch.Size([28])\n"
     ]
    }
   ],
   "source": [
    "train_loader = DataLoader(dataset=train_dataset, \n",
    "                          batch_size=batch_size, \n",
    "                          shuffle=SHUFFLE_TR)\n",
    "\n",
    "test_loader = DataLoader(dataset=test_dataset, \n",
    "                         batch_size=batch_size, \n",
    "                         shuffle=SHUFFLE_TS)\n",
    "\n",
    "# Checking the dataset\n",
    "for images, labels in train_loader:  \n",
    "    print('Image batch dimensions:', images.shape)\n",
    "    print('Image label dimensions:', labels.shape)\n",
    "    break"
   ]
  },
  {
   "cell_type": "markdown",
   "metadata": {},
   "source": [
    "## Model"
   ]
  },
  {
   "cell_type": "code",
   "execution_count": 16,
   "metadata": {},
   "outputs": [],
   "source": [
    "torch.manual_seed(random_seed)\n",
    "model = generative_lib.VAE(num_features, num_hidden_1, num_latent)"
   ]
  },
  {
   "cell_type": "markdown",
   "metadata": {},
   "source": [
    "## COST AND OPTIMIZER"
   ]
  },
  {
   "cell_type": "code",
   "execution_count": 17,
   "metadata": {},
   "outputs": [],
   "source": [
    "model = model.to(\"cpu\")\n",
    "optimizer = torch.optim.Adam(model.parameters(), lr=learning_rate)  "
   ]
  },
  {
   "cell_type": "markdown",
   "metadata": {},
   "source": [
    "## Training"
   ]
  },
  {
   "cell_type": "code",
   "execution_count": 18,
   "metadata": {},
   "outputs": [
    {
     "name": "stdout",
     "output_type": "stream",
     "text": [
      "Epoch: 001/006 | Batch 000/2142 | Cost: 15484.8174\n",
      "Epoch: 001/006 | Batch 050/2142 | Cost: 5754.7188\n",
      "Epoch: 001/006 | Batch 100/2142 | Cost: 5335.6426\n",
      "Epoch: 001/006 | Batch 150/2142 | Cost: 4388.2827\n",
      "Epoch: 001/006 | Batch 200/2142 | Cost: 4368.0576\n",
      "Epoch: 001/006 | Batch 250/2142 | Cost: 4219.2568\n",
      "Epoch: 001/006 | Batch 300/2142 | Cost: 4148.5044\n",
      "Epoch: 001/006 | Batch 350/2142 | Cost: 3901.8894\n",
      "Epoch: 001/006 | Batch 400/2142 | Cost: 3701.4800\n",
      "Epoch: 001/006 | Batch 450/2142 | Cost: 4119.0425\n",
      "Epoch: 001/006 | Batch 500/2142 | Cost: 3979.9998\n",
      "Epoch: 001/006 | Batch 550/2142 | Cost: 3764.1235\n",
      "Epoch: 001/006 | Batch 600/2142 | Cost: 3411.5754\n",
      "Epoch: 001/006 | Batch 650/2142 | Cost: 3858.5957\n",
      "Epoch: 001/006 | Batch 700/2142 | Cost: 3594.1599\n",
      "Epoch: 001/006 | Batch 750/2142 | Cost: 3629.4631\n",
      "Epoch: 001/006 | Batch 800/2142 | Cost: 3518.2473\n",
      "Epoch: 001/006 | Batch 850/2142 | Cost: 3186.9407\n",
      "Epoch: 001/006 | Batch 900/2142 | Cost: 3481.9771\n",
      "Epoch: 001/006 | Batch 950/2142 | Cost: 3213.2642\n",
      "Epoch: 001/006 | Batch 1000/2142 | Cost: 3646.5854\n",
      "Epoch: 001/006 | Batch 1050/2142 | Cost: 3555.7856\n",
      "Epoch: 001/006 | Batch 1100/2142 | Cost: 3171.3506\n",
      "Epoch: 001/006 | Batch 1150/2142 | Cost: 3543.6467\n",
      "Epoch: 001/006 | Batch 1200/2142 | Cost: 3479.0623\n",
      "Epoch: 001/006 | Batch 1250/2142 | Cost: 3145.2778\n",
      "Epoch: 001/006 | Batch 1300/2142 | Cost: 3491.5837\n",
      "Epoch: 001/006 | Batch 1350/2142 | Cost: 3265.8525\n",
      "Epoch: 001/006 | Batch 1400/2142 | Cost: 3429.2197\n",
      "Epoch: 001/006 | Batch 1450/2142 | Cost: 3264.1299\n",
      "Epoch: 001/006 | Batch 1500/2142 | Cost: 3243.3887\n",
      "Epoch: 001/006 | Batch 1550/2142 | Cost: 3281.1672\n",
      "Epoch: 001/006 | Batch 1600/2142 | Cost: 3405.2490\n",
      "Epoch: 001/006 | Batch 1650/2142 | Cost: 3276.6748\n",
      "Epoch: 001/006 | Batch 1700/2142 | Cost: 3248.4316\n",
      "Epoch: 001/006 | Batch 1750/2142 | Cost: 3142.8352\n",
      "Epoch: 001/006 | Batch 1800/2142 | Cost: 3440.0186\n",
      "Epoch: 001/006 | Batch 1850/2142 | Cost: 3312.8484\n",
      "Epoch: 001/006 | Batch 1900/2142 | Cost: 3501.2407\n",
      "Epoch: 001/006 | Batch 1950/2142 | Cost: 3040.8999\n",
      "Epoch: 001/006 | Batch 2000/2142 | Cost: 3331.5911\n",
      "Epoch: 001/006 | Batch 2050/2142 | Cost: 3418.4634\n",
      "Epoch: 001/006 | Batch 2100/2142 | Cost: 3349.6533\n",
      "Epoch: 002/006 | Batch 000/2142 | Cost: 3253.9150\n",
      "Epoch: 002/006 | Batch 050/2142 | Cost: 3188.0657\n",
      "Epoch: 002/006 | Batch 100/2142 | Cost: 3484.2429\n",
      "Epoch: 002/006 | Batch 150/2142 | Cost: 3268.8188\n",
      "Epoch: 002/006 | Batch 200/2142 | Cost: 3134.4700\n",
      "Epoch: 002/006 | Batch 250/2142 | Cost: 3367.9019\n",
      "Epoch: 002/006 | Batch 300/2142 | Cost: 3108.1562\n",
      "Epoch: 002/006 | Batch 350/2142 | Cost: 3176.3003\n",
      "Epoch: 002/006 | Batch 400/2142 | Cost: 3371.9019\n",
      "Epoch: 002/006 | Batch 450/2142 | Cost: 3345.9004\n",
      "Epoch: 002/006 | Batch 500/2142 | Cost: 3484.9575\n",
      "Epoch: 002/006 | Batch 550/2142 | Cost: 3203.7866\n",
      "Epoch: 002/006 | Batch 600/2142 | Cost: 3434.7522\n",
      "Epoch: 002/006 | Batch 650/2142 | Cost: 3058.8918\n",
      "Epoch: 002/006 | Batch 700/2142 | Cost: 3329.4368\n",
      "Epoch: 002/006 | Batch 750/2142 | Cost: 3186.9009\n",
      "Epoch: 002/006 | Batch 800/2142 | Cost: 2988.2773\n",
      "Epoch: 002/006 | Batch 850/2142 | Cost: 3241.3442\n",
      "Epoch: 002/006 | Batch 900/2142 | Cost: 2946.0483\n",
      "Epoch: 002/006 | Batch 950/2142 | Cost: 3096.6438\n",
      "Epoch: 002/006 | Batch 1000/2142 | Cost: 3090.7573\n",
      "Epoch: 002/006 | Batch 1050/2142 | Cost: 2931.9055\n",
      "Epoch: 002/006 | Batch 1100/2142 | Cost: 3300.4424\n",
      "Epoch: 002/006 | Batch 1150/2142 | Cost: 3395.1680\n",
      "Epoch: 002/006 | Batch 1200/2142 | Cost: 3048.0586\n",
      "Epoch: 002/006 | Batch 1250/2142 | Cost: 3257.7778\n",
      "Epoch: 002/006 | Batch 1300/2142 | Cost: 2849.1616\n",
      "Epoch: 002/006 | Batch 1350/2142 | Cost: 3109.3289\n",
      "Epoch: 002/006 | Batch 1400/2142 | Cost: 3616.8328\n",
      "Epoch: 002/006 | Batch 1450/2142 | Cost: 3194.0513\n",
      "Epoch: 002/006 | Batch 1500/2142 | Cost: 3051.5503\n",
      "Epoch: 002/006 | Batch 1550/2142 | Cost: 3139.3066\n",
      "Epoch: 002/006 | Batch 1600/2142 | Cost: 3033.9041\n",
      "Epoch: 002/006 | Batch 1650/2142 | Cost: 3083.0210\n",
      "Epoch: 002/006 | Batch 1700/2142 | Cost: 3212.3193\n",
      "Epoch: 002/006 | Batch 1750/2142 | Cost: 3022.8408\n",
      "Epoch: 002/006 | Batch 1800/2142 | Cost: 3080.8008\n",
      "Epoch: 002/006 | Batch 1850/2142 | Cost: 2888.1572\n",
      "Epoch: 002/006 | Batch 1900/2142 | Cost: 3233.5015\n",
      "Epoch: 002/006 | Batch 1950/2142 | Cost: 3124.1184\n",
      "Epoch: 002/006 | Batch 2000/2142 | Cost: 3261.5356\n",
      "Epoch: 002/006 | Batch 2050/2142 | Cost: 3370.1868\n",
      "Epoch: 002/006 | Batch 2100/2142 | Cost: 3015.1624\n",
      "Epoch: 003/006 | Batch 000/2142 | Cost: 3209.4487\n",
      "Epoch: 003/006 | Batch 050/2142 | Cost: 3004.1682\n",
      "Epoch: 003/006 | Batch 100/2142 | Cost: 2980.5952\n",
      "Epoch: 003/006 | Batch 150/2142 | Cost: 2903.3237\n",
      "Epoch: 003/006 | Batch 200/2142 | Cost: 2901.4365\n",
      "Epoch: 003/006 | Batch 250/2142 | Cost: 2959.4504\n",
      "Epoch: 003/006 | Batch 300/2142 | Cost: 3013.9629\n",
      "Epoch: 003/006 | Batch 350/2142 | Cost: 3217.7363\n",
      "Epoch: 003/006 | Batch 400/2142 | Cost: 2876.7744\n",
      "Epoch: 003/006 | Batch 450/2142 | Cost: 3093.4282\n",
      "Epoch: 003/006 | Batch 500/2142 | Cost: 3219.0254\n",
      "Epoch: 003/006 | Batch 550/2142 | Cost: 3488.1289\n",
      "Epoch: 003/006 | Batch 600/2142 | Cost: 2892.0068\n",
      "Epoch: 003/006 | Batch 650/2142 | Cost: 3020.6533\n",
      "Epoch: 003/006 | Batch 700/2142 | Cost: 2999.0586\n",
      "Epoch: 003/006 | Batch 750/2142 | Cost: 2946.0007\n",
      "Epoch: 003/006 | Batch 800/2142 | Cost: 3039.7295\n",
      "Epoch: 003/006 | Batch 850/2142 | Cost: 3104.3926\n",
      "Epoch: 003/006 | Batch 900/2142 | Cost: 2978.6235\n",
      "Epoch: 003/006 | Batch 950/2142 | Cost: 2934.0400\n",
      "Epoch: 003/006 | Batch 1000/2142 | Cost: 3348.7224\n",
      "Epoch: 003/006 | Batch 1050/2142 | Cost: 3337.5193\n",
      "Epoch: 003/006 | Batch 1100/2142 | Cost: 3335.7246\n",
      "Epoch: 003/006 | Batch 1150/2142 | Cost: 3234.2922\n",
      "Epoch: 003/006 | Batch 1200/2142 | Cost: 3152.3960\n",
      "Epoch: 003/006 | Batch 1250/2142 | Cost: 2950.4119\n",
      "Epoch: 003/006 | Batch 1300/2142 | Cost: 3073.2236\n",
      "Epoch: 003/006 | Batch 1350/2142 | Cost: 2959.3276\n",
      "Epoch: 003/006 | Batch 1400/2142 | Cost: 3174.8442\n",
      "Epoch: 003/006 | Batch 1450/2142 | Cost: 2935.7615\n",
      "Epoch: 003/006 | Batch 1500/2142 | Cost: 2997.7117\n",
      "Epoch: 003/006 | Batch 1550/2142 | Cost: 3161.0327\n",
      "Epoch: 003/006 | Batch 1600/2142 | Cost: 2988.1467\n",
      "Epoch: 003/006 | Batch 1650/2142 | Cost: 3128.7375\n",
      "Epoch: 003/006 | Batch 1700/2142 | Cost: 2978.9219\n",
      "Epoch: 003/006 | Batch 1750/2142 | Cost: 2861.7363\n",
      "Epoch: 003/006 | Batch 1800/2142 | Cost: 3453.3945\n",
      "Epoch: 003/006 | Batch 1850/2142 | Cost: 3095.9248\n",
      "Epoch: 003/006 | Batch 1900/2142 | Cost: 3054.8225\n",
      "Epoch: 003/006 | Batch 1950/2142 | Cost: 2846.5317\n",
      "Epoch: 003/006 | Batch 2000/2142 | Cost: 2954.9900\n",
      "Epoch: 003/006 | Batch 2050/2142 | Cost: 3099.9636\n",
      "Epoch: 003/006 | Batch 2100/2142 | Cost: 2717.0586\n",
      "Epoch: 004/006 | Batch 000/2142 | Cost: 3180.3118\n",
      "Epoch: 004/006 | Batch 050/2142 | Cost: 2809.7612\n",
      "Epoch: 004/006 | Batch 100/2142 | Cost: 2986.7654\n",
      "Epoch: 004/006 | Batch 150/2142 | Cost: 3050.1147\n",
      "Epoch: 004/006 | Batch 200/2142 | Cost: 2865.7446\n",
      "Epoch: 004/006 | Batch 250/2142 | Cost: 3169.4541\n",
      "Epoch: 004/006 | Batch 300/2142 | Cost: 3141.7026\n",
      "Epoch: 004/006 | Batch 350/2142 | Cost: 3021.7651\n",
      "Epoch: 004/006 | Batch 400/2142 | Cost: 2879.6841\n",
      "Epoch: 004/006 | Batch 450/2142 | Cost: 3153.3174\n",
      "Epoch: 004/006 | Batch 500/2142 | Cost: 3039.4397\n",
      "Epoch: 004/006 | Batch 550/2142 | Cost: 2906.8003\n",
      "Epoch: 004/006 | Batch 600/2142 | Cost: 2913.3933\n",
      "Epoch: 004/006 | Batch 650/2142 | Cost: 2970.9141\n",
      "Epoch: 004/006 | Batch 700/2142 | Cost: 3184.2871\n",
      "Epoch: 004/006 | Batch 750/2142 | Cost: 3097.6575\n",
      "Epoch: 004/006 | Batch 800/2142 | Cost: 3164.2886\n",
      "Epoch: 004/006 | Batch 850/2142 | Cost: 3018.5952\n",
      "Epoch: 004/006 | Batch 900/2142 | Cost: 2867.5073\n",
      "Epoch: 004/006 | Batch 950/2142 | Cost: 3028.9341\n",
      "Epoch: 004/006 | Batch 1000/2142 | Cost: 3036.3286\n",
      "Epoch: 004/006 | Batch 1050/2142 | Cost: 2945.3345\n",
      "Epoch: 004/006 | Batch 1100/2142 | Cost: 3067.6248\n",
      "Epoch: 004/006 | Batch 1150/2142 | Cost: 2989.4585\n",
      "Epoch: 004/006 | Batch 1200/2142 | Cost: 3034.7515\n",
      "Epoch: 004/006 | Batch 1250/2142 | Cost: 2993.8940\n",
      "Epoch: 004/006 | Batch 1300/2142 | Cost: 3042.8042\n",
      "Epoch: 004/006 | Batch 1350/2142 | Cost: 3018.4141\n",
      "Epoch: 004/006 | Batch 1400/2142 | Cost: 3071.6802\n",
      "Epoch: 004/006 | Batch 1450/2142 | Cost: 3198.0923\n",
      "Epoch: 004/006 | Batch 1500/2142 | Cost: 2990.9939\n",
      "Epoch: 004/006 | Batch 1550/2142 | Cost: 3132.0920\n",
      "Epoch: 004/006 | Batch 1600/2142 | Cost: 3258.3542\n",
      "Epoch: 004/006 | Batch 1650/2142 | Cost: 3159.4807\n"
     ]
    },
    {
     "name": "stdout",
     "output_type": "stream",
     "text": [
      "Epoch: 004/006 | Batch 1700/2142 | Cost: 3258.3716\n",
      "Epoch: 004/006 | Batch 1750/2142 | Cost: 2947.9531\n",
      "Epoch: 004/006 | Batch 1800/2142 | Cost: 3125.9370\n",
      "Epoch: 004/006 | Batch 1850/2142 | Cost: 3139.7183\n",
      "Epoch: 004/006 | Batch 1900/2142 | Cost: 3019.9287\n",
      "Epoch: 004/006 | Batch 1950/2142 | Cost: 3046.3611\n",
      "Epoch: 004/006 | Batch 2000/2142 | Cost: 3308.2188\n",
      "Epoch: 004/006 | Batch 2050/2142 | Cost: 3142.8254\n",
      "Epoch: 004/006 | Batch 2100/2142 | Cost: 2806.5874\n",
      "Epoch: 005/006 | Batch 000/2142 | Cost: 3133.0713\n",
      "Epoch: 005/006 | Batch 050/2142 | Cost: 3163.3933\n",
      "Epoch: 005/006 | Batch 100/2142 | Cost: 3052.0969\n",
      "Epoch: 005/006 | Batch 150/2142 | Cost: 2774.2065\n",
      "Epoch: 005/006 | Batch 200/2142 | Cost: 3043.1704\n",
      "Epoch: 005/006 | Batch 250/2142 | Cost: 2962.3088\n",
      "Epoch: 005/006 | Batch 300/2142 | Cost: 2913.6274\n",
      "Epoch: 005/006 | Batch 350/2142 | Cost: 3350.6392\n",
      "Epoch: 005/006 | Batch 400/2142 | Cost: 3071.0972\n",
      "Epoch: 005/006 | Batch 450/2142 | Cost: 2966.8398\n",
      "Epoch: 005/006 | Batch 500/2142 | Cost: 3015.2249\n",
      "Epoch: 005/006 | Batch 550/2142 | Cost: 2942.0459\n",
      "Epoch: 005/006 | Batch 600/2142 | Cost: 3165.0400\n",
      "Epoch: 005/006 | Batch 650/2142 | Cost: 3104.5037\n",
      "Epoch: 005/006 | Batch 700/2142 | Cost: 3243.4978\n",
      "Epoch: 005/006 | Batch 750/2142 | Cost: 2984.7781\n",
      "Epoch: 005/006 | Batch 800/2142 | Cost: 3220.3584\n",
      "Epoch: 005/006 | Batch 850/2142 | Cost: 3007.3879\n",
      "Epoch: 005/006 | Batch 900/2142 | Cost: 2907.9658\n",
      "Epoch: 005/006 | Batch 950/2142 | Cost: 2945.5728\n",
      "Epoch: 005/006 | Batch 1000/2142 | Cost: 2933.1326\n",
      "Epoch: 005/006 | Batch 1050/2142 | Cost: 3222.1587\n",
      "Epoch: 005/006 | Batch 1100/2142 | Cost: 2982.1897\n",
      "Epoch: 005/006 | Batch 1150/2142 | Cost: 3190.5479\n",
      "Epoch: 005/006 | Batch 1200/2142 | Cost: 2920.9370\n",
      "Epoch: 005/006 | Batch 1250/2142 | Cost: 2880.1675\n",
      "Epoch: 005/006 | Batch 1300/2142 | Cost: 3062.2903\n",
      "Epoch: 005/006 | Batch 1350/2142 | Cost: 3140.8411\n",
      "Epoch: 005/006 | Batch 1400/2142 | Cost: 3248.8750\n",
      "Epoch: 005/006 | Batch 1450/2142 | Cost: 3111.0674\n",
      "Epoch: 005/006 | Batch 1500/2142 | Cost: 3120.5195\n",
      "Epoch: 005/006 | Batch 1550/2142 | Cost: 3138.5300\n",
      "Epoch: 005/006 | Batch 1600/2142 | Cost: 2881.7148\n",
      "Epoch: 005/006 | Batch 1650/2142 | Cost: 3338.3894\n",
      "Epoch: 005/006 | Batch 1700/2142 | Cost: 3244.5183\n",
      "Epoch: 005/006 | Batch 1750/2142 | Cost: 2905.7539\n",
      "Epoch: 005/006 | Batch 1800/2142 | Cost: 3037.9351\n",
      "Epoch: 005/006 | Batch 1850/2142 | Cost: 3034.4526\n",
      "Epoch: 005/006 | Batch 1900/2142 | Cost: 2894.4316\n",
      "Epoch: 005/006 | Batch 1950/2142 | Cost: 2830.8955\n",
      "Epoch: 005/006 | Batch 2000/2142 | Cost: 3179.3076\n",
      "Epoch: 005/006 | Batch 2050/2142 | Cost: 2985.0200\n",
      "Epoch: 005/006 | Batch 2100/2142 | Cost: 3125.6208\n",
      "Epoch: 006/006 | Batch 000/2142 | Cost: 3116.6362\n",
      "Epoch: 006/006 | Batch 050/2142 | Cost: 2781.2888\n",
      "Epoch: 006/006 | Batch 100/2142 | Cost: 2995.1021\n",
      "Epoch: 006/006 | Batch 150/2142 | Cost: 3027.9429\n",
      "Epoch: 006/006 | Batch 200/2142 | Cost: 3067.9924\n",
      "Epoch: 006/006 | Batch 250/2142 | Cost: 3163.5015\n",
      "Epoch: 006/006 | Batch 300/2142 | Cost: 2908.1611\n",
      "Epoch: 006/006 | Batch 350/2142 | Cost: 2848.3447\n",
      "Epoch: 006/006 | Batch 400/2142 | Cost: 2686.4985\n",
      "Epoch: 006/006 | Batch 450/2142 | Cost: 2947.8247\n",
      "Epoch: 006/006 | Batch 500/2142 | Cost: 2926.4851\n",
      "Epoch: 006/006 | Batch 550/2142 | Cost: 2961.9739\n",
      "Epoch: 006/006 | Batch 600/2142 | Cost: 3316.9458\n",
      "Epoch: 006/006 | Batch 650/2142 | Cost: 3091.1958\n",
      "Epoch: 006/006 | Batch 700/2142 | Cost: 3114.0635\n",
      "Epoch: 006/006 | Batch 750/2142 | Cost: 3230.7285\n",
      "Epoch: 006/006 | Batch 800/2142 | Cost: 2890.2227\n",
      "Epoch: 006/006 | Batch 850/2142 | Cost: 2865.5337\n",
      "Epoch: 006/006 | Batch 900/2142 | Cost: 2867.3179\n",
      "Epoch: 006/006 | Batch 950/2142 | Cost: 2971.9705\n",
      "Epoch: 006/006 | Batch 1000/2142 | Cost: 2937.6328\n",
      "Epoch: 006/006 | Batch 1050/2142 | Cost: 3102.7410\n",
      "Epoch: 006/006 | Batch 1100/2142 | Cost: 2905.7129\n",
      "Epoch: 006/006 | Batch 1150/2142 | Cost: 2966.8999\n",
      "Epoch: 006/006 | Batch 1200/2142 | Cost: 2938.5718\n",
      "Epoch: 006/006 | Batch 1250/2142 | Cost: 3105.4604\n",
      "Epoch: 006/006 | Batch 1300/2142 | Cost: 2944.9641\n",
      "Epoch: 006/006 | Batch 1350/2142 | Cost: 2846.1216\n",
      "Epoch: 006/006 | Batch 1400/2142 | Cost: 2819.9395\n",
      "Epoch: 006/006 | Batch 1450/2142 | Cost: 2687.3066\n",
      "Epoch: 006/006 | Batch 1500/2142 | Cost: 2773.3716\n",
      "Epoch: 006/006 | Batch 1550/2142 | Cost: 2864.8267\n",
      "Epoch: 006/006 | Batch 1600/2142 | Cost: 2916.8467\n",
      "Epoch: 006/006 | Batch 1650/2142 | Cost: 2764.1897\n",
      "Epoch: 006/006 | Batch 1700/2142 | Cost: 3293.5479\n",
      "Epoch: 006/006 | Batch 1750/2142 | Cost: 3131.2178\n",
      "Epoch: 006/006 | Batch 1800/2142 | Cost: 3163.5098\n",
      "Epoch: 006/006 | Batch 1850/2142 | Cost: 3144.1338\n",
      "Epoch: 006/006 | Batch 1900/2142 | Cost: 2860.5388\n",
      "Epoch: 006/006 | Batch 1950/2142 | Cost: 3114.2397\n",
      "Epoch: 006/006 | Batch 2000/2142 | Cost: 2942.2605\n",
      "Epoch: 006/006 | Batch 2050/2142 | Cost: 2821.0996\n",
      "Epoch: 006/006 | Batch 2100/2142 | Cost: 2983.5674\n"
     ]
    }
   ],
   "source": [
    "for epoch in range(num_epochs):\n",
    "    for batch_idx, (features, targets) in enumerate(train_loader):\n",
    "        \n",
    "        # don't need labels, only the images (features)\n",
    "        features = features.view(-1, 28*28)\n",
    "\n",
    "        ### FORWARD AND BACK PROP\n",
    "        z_mean, z_log_var, encoded, decoded = model(features)\n",
    "\n",
    "        # cost = reconstruction loss + Kullback-Leibler divergence\n",
    "        kl_divergence = (0.5 * (z_mean**2 + \n",
    "                                torch.exp(z_log_var) - z_log_var - 1)).sum()\n",
    "        pixelwise_bce = F.binary_cross_entropy(decoded, features, size_average=False)\n",
    "        cost = kl_divergence + pixelwise_bce\n",
    "        \n",
    "        optimizer.zero_grad()\n",
    "        cost.backward()\n",
    "        \n",
    "        ### UPDATE MODEL PARAMETERS\n",
    "        optimizer.step()\n",
    "        \n",
    "        ### LOGGING\n",
    "        if not batch_idx % 50:\n",
    "            print ('Epoch: %03d/%03d | Batch %03d/%03d | Cost: %.4f' \n",
    "                   %(epoch+1, num_epochs, batch_idx, \n",
    "                     len(train_dataset)//batch_size, cost))"
   ]
  },
  {
   "cell_type": "markdown",
   "metadata": {},
   "source": [
    "## Evaluation"
   ]
  },
  {
   "cell_type": "markdown",
   "metadata": {},
   "source": [
    "### Trainset"
   ]
  },
  {
   "cell_type": "code",
   "execution_count": 19,
   "metadata": {},
   "outputs": [],
   "source": [
    "n_images = 9\n",
    "image_width = 28\n",
    "\n",
    "orig_images = features[:n_images]\n",
    "\n",
    "# test of encoder/decoder \n",
    "[enc,z_mean,z_log_var] = model.encoder(orig_images)\n",
    "dec = model.decoder(enc)"
   ]
  },
  {
   "cell_type": "code",
   "execution_count": 20,
   "metadata": {},
   "outputs": [
    {
     "data": {
      "image/png": "[encoded data removed]",
      "text/plain": [
       "<matplotlib.figure.Figure at 0xa1b3cbfd0>"
      ]
     },
     "metadata": {},
     "output_type": "display_data"
    }
   ],
   "source": [
    "# reconstruction of train set\n",
    "fig, axes = plt.subplots(nrows=2, ncols=n_images, \n",
    "                         sharex=True, sharey=True, figsize=(20, 2.5))\n",
    "\n",
    "for i in range(n_images):\n",
    "    for ax, img in zip(axes, [orig_images, dec]):\n",
    "        ax[i].imshow(img[i].detach().reshape((image_width, image_width)), cmap='binary')"
   ]
  },
  {
   "cell_type": "markdown",
   "metadata": {},
   "source": [
    "### Test set"
   ]
  },
  {
   "cell_type": "code",
   "execution_count": 21,
   "metadata": {},
   "outputs": [
    {
     "data": {
      "text/plain": [
       "<matplotlib.image.AxesImage at 0xa1fdd52b0>"
      ]
     },
     "execution_count": 21,
     "metadata": {},
     "output_type": "execute_result"
    },
    {
     "data": {
      "image/png": "[encoded data removed]",
      "text/plain": [
       "<matplotlib.figure.Figure at 0xa1a480ba8>"
      ]
     },
     "metadata": {},
     "output_type": "display_data"
    }
   ],
   "source": [
    "# Random img in the test set\n",
    "test_img = test_dataset[random.randint(0, len(test_dataset))][0]\n",
    "plt.imshow(test_img.reshape([image_width,image_width]),cmap='binary')"
   ]
  },
  {
   "cell_type": "code",
   "execution_count": 22,
   "metadata": {},
   "outputs": [
    {
     "data": {
      "text/plain": [
       "<matplotlib.image.AxesImage at 0xa1ff705c0>"
      ]
     },
     "execution_count": 22,
     "metadata": {},
     "output_type": "execute_result"
    },
    {
     "data": {
      "image/png": "[encoded data removed]",
      "text/plain": [
       "<matplotlib.figure.Figure at 0xa1cb47208>"
      ]
     },
     "metadata": {},
     "output_type": "display_data"
    }
   ],
   "source": [
    "# Reconstruction using autoencoder\n",
    "[test_enc,z_mean,z_log_var] = model.encoder(test_img.reshape([1,image_width*image_width]))\n",
    "test_dec = model.decoder(test_enc).detach().numpy()\n",
    "\n",
    "plt.imshow(test_dec.reshape([image_width,image_width]),cmap='binary')"
   ]
  },
  {
   "cell_type": "markdown",
   "metadata": {},
   "source": [
    "## Latent Codes"
   ]
  },
  {
   "cell_type": "code",
   "execution_count": 127,
   "metadata": {},
   "outputs": [],
   "source": [
    "batch_size = len(train_dataset)\n",
    "batch_size_test = len(test_dataset)\n",
    "SHUFFLE_TR = False\n",
    "SHUFFLE_TS = False\n",
    "\n",
    "Xtrain = DataLoader(dataset=train_dataset, batch_size=batch_size, shuffle=SHUFFLE_TR)\n",
    "Xtest = DataLoader(dataset=test_dataset, batch_size=batch_size_test, shuffle=SHUFFLE_TS)"
   ]
  },
  {
   "cell_type": "code",
   "execution_count": 128,
   "metadata": {},
   "outputs": [
    {
     "name": "stdout",
     "output_type": "stream",
     "text": [
      "0\n"
     ]
    }
   ],
   "source": [
    "for batch_idx, (features, targets_tr) in enumerate(Xtrain):\n",
    "    features_tr = features.view(-1, 28*28)\n",
    "print(batch_idx)"
   ]
  },
  {
   "cell_type": "code",
   "execution_count": 129,
   "metadata": {},
   "outputs": [
    {
     "data": {
      "text/plain": [
       "torch.Size([60000, 784])"
      ]
     },
     "execution_count": 129,
     "metadata": {},
     "output_type": "execute_result"
    }
   ],
   "source": [
    "features_tr.shape"
   ]
  },
  {
   "cell_type": "code",
   "execution_count": 130,
   "metadata": {},
   "outputs": [
    {
     "name": "stdout",
     "output_type": "stream",
     "text": [
      "torch.Size([60000, 15])\n",
      "torch.Size([60000])\n"
     ]
    }
   ],
   "source": [
    "[latent_tr,z_mean,z_log_var] = model.encoder(features_tr)\n",
    "print(latent_tr.shape)\n",
    "print(targets_tr.shape)"
   ]
  },
  {
   "cell_type": "code",
   "execution_count": 131,
   "metadata": {},
   "outputs": [
    {
     "name": "stdout",
     "output_type": "stream",
     "text": [
      "0\n"
     ]
    }
   ],
   "source": [
    "for batch_idx, (features, targets_ts) in enumerate(Xtest):\n",
    "    features_ts = features.view(-1, 28*28)\n",
    "print(batch_idx)"
   ]
  },
  {
   "cell_type": "code",
   "execution_count": 132,
   "metadata": {},
   "outputs": [
    {
     "name": "stdout",
     "output_type": "stream",
     "text": [
      "torch.Size([10000, 15])\n",
      "torch.Size([10000])\n"
     ]
    }
   ],
   "source": [
    "[latent_ts,z_mean,z_log_var] = model.encoder(features_ts)\n",
    "print(latent_ts.shape)\n",
    "print(targets_ts.shape)"
   ]
  },
  {
   "cell_type": "code",
   "execution_count": 133,
   "metadata": {},
   "outputs": [],
   "source": [
    "torch.save(latent_tr, 'VAE_FMNIST-latent_tr.pth')\n",
    "torch.save(latent_ts, 'VAE_FMNIST-latent_ts.pth')\n",
    "\n",
    "torch.save(targets_tr, 'VAE_FMNIST-targets_tr.pth')\n",
    "torch.save(targets_ts, 'VAE_FMNIST-targets_ts.pth')"
   ]
  },
  {
   "cell_type": "markdown",
   "metadata": {},
   "source": [
    "# Creating Generator from AE"
   ]
  },
  {
   "cell_type": "code",
   "execution_count": 57,
   "metadata": {},
   "outputs": [],
   "source": [
    "generator = generative_lib.VAE_gen(num_features, num_hidden_1, num_latent)"
   ]
  },
  {
   "cell_type": "code",
   "execution_count": 58,
   "metadata": {},
   "outputs": [],
   "source": [
    "# copying weight in the generator\n",
    "net_weight_dict = model.state_dict()\n",
    "gen_weight_dict = {}\n",
    "\n",
    "gen_weight_dict['linear_3.weight'] = net_weight_dict['linear_3.weight']\n",
    "gen_weight_dict['linear_3.bias']   = net_weight_dict['linear_3.bias']\n",
    "gen_weight_dict['linear_4.weight'] = net_weight_dict['linear_4.weight']\n",
    "gen_weight_dict['linear_4.bias']   = net_weight_dict['linear_4.bias']\n",
    "\n",
    "generator.load_state_dict(gen_weight_dict)"
   ]
  },
  {
   "cell_type": "code",
   "execution_count": 59,
   "metadata": {},
   "outputs": [],
   "source": [
    "# freeze weigths\n",
    "generative_lib.froze_weights(generator)"
   ]
  },
  {
   "cell_type": "markdown",
   "metadata": {},
   "source": [
    "# Projection"
   ]
  },
  {
   "cell_type": "code",
   "execution_count": 85,
   "metadata": {},
   "outputs": [
    {
     "data": {
      "text/plain": [
       "<matplotlib.image.AxesImage at 0xa25aaa4a8>"
      ]
     },
     "execution_count": 85,
     "metadata": {},
     "output_type": "execute_result"
    },
    {
     "data": {
      "image/png": "[encoded data removed]",
      "text/plain": [
       "<matplotlib.figure.Figure at 0xa25990240>"
      ]
     },
     "metadata": {},
     "output_type": "display_data"
    }
   ],
   "source": [
    "# Random img in the test set\n",
    "test_img = test_dataset[random.randint(0, len(test_dataset))][0]\n",
    "plt.imshow(test_img.reshape([image_width,image_width]),cmap='binary')"
   ]
  },
  {
   "cell_type": "code",
   "execution_count": 86,
   "metadata": {},
   "outputs": [
    {
     "data": {
      "text/plain": [
       "<matplotlib.image.AxesImage at 0xa25bc2128>"
      ]
     },
     "execution_count": 86,
     "metadata": {},
     "output_type": "execute_result"
    },
    {
     "data": {
      "image/png": "[encoded data removed]",
      "text/plain": [
       "<matplotlib.figure.Figure at 0xa25a840f0>"
      ]
     },
     "metadata": {},
     "output_type": "display_data"
    }
   ],
   "source": [
    "# Reconstruction using autoencoder\n",
    "[test_enc,z_mean,z_log_var] = model.encoder(test_img.reshape([1,image_width*image_width]))\n",
    "test_dec = model.decoder(test_enc).detach().numpy()\n",
    "\n",
    "plt.imshow(test_dec.reshape([image_width,image_width]),cmap='binary')"
   ]
  },
  {
   "cell_type": "code",
   "execution_count": 102,
   "metadata": {},
   "outputs": [
    {
     "data": {
      "text/plain": [
       "<matplotlib.image.AxesImage at 0xa1c2f0dd8>"
      ]
     },
     "execution_count": 102,
     "metadata": {},
     "output_type": "execute_result"
    },
    {
     "data": {
      "image/png": "[encoded data removed]",
      "text/plain": [
       "<matplotlib.figure.Figure at 0xa25b246a0>"
      ]
     },
     "metadata": {},
     "output_type": "display_data"
    }
   ],
   "source": [
    "# reconstruction by projection\n",
    "maxit = 5\n",
    "gamma  = 0.1\n",
    "x0    = test_enc\n",
    "Gstar = test_img.reshape(image_width*image_width) #model.decoder(test_enc).detach()\n",
    "rand_init = 0\n",
    "sigma = 2\n",
    "\n",
    "[l2_loss_var,xk] = generative_lib.Full_Projection(generator, Gstar, maxit, gamma, rand_init, sigma, x0)\n",
    "\n",
    "pctk = generator(xk)\n",
    "plt.imshow(pctk.detach().numpy().reshape(image_width,image_width),  cmap='Greys')"
   ]
  },
  {
   "cell_type": "code",
   "execution_count": 103,
   "metadata": {},
   "outputs": [
    {
     "name": "stdout",
     "output_type": "stream",
     "text": [
      "tensor(3.7439)\n"
     ]
    }
   ],
   "source": [
    "tmp = test_dec.reshape(image_width*image_width) - test_img.reshape(image_width*image_width)\n",
    "print(torch.norm(tmp))"
   ]
  },
  {
   "cell_type": "code",
   "execution_count": 104,
   "metadata": {},
   "outputs": [
    {
     "name": "stdout",
     "output_type": "stream",
     "text": [
      "tensor(3.1135)\n"
     ]
    }
   ],
   "source": [
    "tmp = pctk.reshape(image_width*image_width) - test_img.reshape(image_width*image_width)\n",
    "print(torch.norm(tmp))"
   ]
  },
  {
   "cell_type": "code",
   "execution_count": null,
   "metadata": {},
   "outputs": [],
   "source": []
  }
 ],
 "metadata": {
  "kernelspec": {
   "display_name": "Python [conda env:DL]",
   "language": "python",
   "name": "conda-env-DL-py"
  },
  "language_info": {
   "codemirror_mode": {
    "name": "ipython",
    "version": 3
   },
   "file_extension": ".py",
   "mimetype": "text/x-python",
   "name": "python",
   "nbconvert_exporter": "python",
   "pygments_lexer": "ipython3",
   "version": "3.6.7"
  },
  "toc": {
   "nav_menu": {},
   "number_sections": true,
   "sideBar": true,
   "skip_h1_title": false,
   "title_cell": "Table of Contents",
   "title_sidebar": "Contents",
   "toc_cell": false,
   "toc_position": {},
   "toc_section_display": true,
   "toc_window_display": true
  }
 },
 "nbformat": 4,
 "nbformat_minor": 2
}
