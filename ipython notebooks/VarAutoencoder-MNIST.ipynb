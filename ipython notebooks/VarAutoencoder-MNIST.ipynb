{
 "cells": [
  {
   "cell_type": "markdown",
   "metadata": {},
   "source": [
    "# Variational Autoencoder"
   ]
  },
  {
   "cell_type": "code",
   "execution_count": 77,
   "metadata": {},
   "outputs": [],
   "source": [
    "%matplotlib inline\n",
    "import matplotlib.pyplot as plt"
   ]
  },
  {
   "cell_type": "code",
   "execution_count": 78,
   "metadata": {},
   "outputs": [
    {
     "name": "stdout",
     "output_type": "stream",
     "text": [
      "3.6.7 |Anaconda, Inc.| (default, Oct 23 2018, 14:01:38) \n",
      "[GCC 4.2.1 Compatible Clang 4.0.1 (tags/RELEASE_401/final)]\n"
     ]
    }
   ],
   "source": [
    "import sys\n",
    "print (sys.version)"
   ]
  },
  {
   "cell_type": "code",
   "execution_count": 79,
   "metadata": {},
   "outputs": [],
   "source": [
    "import numpy as np\n",
    "import matplotlib.pyplot as plt\n",
    "%matplotlib inline\n",
    "from mpl_toolkits.mplot3d import Axes3D\n",
    "import importlib\n",
    "import pandas as pd\n",
    "from scipy.stats import bernoulli\n",
    "from matplotlib import cm\n",
    "from numpy import linalg as LA\n",
    "from mpl_toolkits.mplot3d import Axes3D # This import has side effects required for the kwarg projection='3d' in the call to fig.add_subplot\n",
    "import random\n",
    "\n",
    "import generative_lib"
   ]
  },
  {
   "cell_type": "code",
   "execution_count": 80,
   "metadata": {},
   "outputs": [
    {
     "data": {
      "text/plain": [
       "<module 'generative_lib' from '/Users/joriococola/Desktop/CS 6140/project 6140/GitHub/CS6140_LatentClassify/ipython notebooks/generative_lib.py'>"
      ]
     },
     "execution_count": 80,
     "metadata": {},
     "output_type": "execute_result"
    }
   ],
   "source": [
    "importlib.reload(generative_lib)"
   ]
  },
  {
   "cell_type": "code",
   "execution_count": 81,
   "metadata": {},
   "outputs": [],
   "source": [
    "import torch\n",
    "import torch.nn.functional as F\n",
    "from torchvision import datasets\n",
    "from torchvision import transforms\n",
    "from torch.utils.data import DataLoader"
   ]
  },
  {
   "cell_type": "markdown",
   "metadata": {},
   "source": [
    "## Setting"
   ]
  },
  {
   "cell_type": "code",
   "execution_count": 116,
   "metadata": {},
   "outputs": [],
   "source": [
    "# Dataset\n",
    "random_seed = 123\n",
    "DOWNLOAD = True\n",
    "SHUFFLE_TR = True\n",
    "SHUFFLE_TS = False\n",
    "\n",
    "# Architecture\n",
    "num_features = 784\n",
    "num_hidden_1 = 500\n",
    "num_latent = 15\n",
    "\n",
    "device = \"cpu\"\n",
    "\n",
    "# Training\n",
    "learning_rate = 0.001\n",
    "num_epochs = 6\n",
    "batch_size = 28"
   ]
  },
  {
   "cell_type": "markdown",
   "metadata": {},
   "source": [
    "## MNIST DATASET"
   ]
  },
  {
   "cell_type": "code",
   "execution_count": 117,
   "metadata": {},
   "outputs": [
    {
     "name": "stdout",
     "output_type": "stream",
     "text": [
      "Downloading http://fashion-mnist.s3-website.eu-central-1.amazonaws.com/train-images-idx3-ubyte.gz\n",
      "Downloading http://fashion-mnist.s3-website.eu-central-1.amazonaws.com/train-labels-idx1-ubyte.gz\n",
      "Downloading http://fashion-mnist.s3-website.eu-central-1.amazonaws.com/t10k-images-idx3-ubyte.gz\n",
      "Downloading http://fashion-mnist.s3-website.eu-central-1.amazonaws.com/t10k-labels-idx1-ubyte.gz\n",
      "Processing...\n",
      "Done!\n"
     ]
    }
   ],
   "source": [
    "# Note transforms.ToTensor() scales input images to 0-1 range\n",
    "train_dataset = datasets.FashionMNIST(root='data2', \n",
    "                               train=True, \n",
    "                               transform=transforms.ToTensor(),\n",
    "                               download=DOWNLOAD)\n",
    "\n",
    "test_dataset = datasets.FashionMNIST(root='data2', \n",
    "                              train=False, \n",
    "                              transform=transforms.ToTensor())"
   ]
  },
  {
   "cell_type": "code",
   "execution_count": 118,
   "metadata": {},
   "outputs": [
    {
     "name": "stdout",
     "output_type": "stream",
     "text": [
      "Image batch dimensions: torch.Size([28, 1, 28, 28])\n",
      "Image label dimensions: torch.Size([28])\n"
     ]
    }
   ],
   "source": [
    "train_loader = DataLoader(dataset=train_dataset, \n",
    "                          batch_size=batch_size, \n",
    "                          shuffle=SHUFFLE_TR)\n",
    "\n",
    "test_loader = DataLoader(dataset=test_dataset, \n",
    "                         batch_size=batch_size, \n",
    "                         shuffle=SHUFFLE_TS)\n",
    "\n",
    "# Checking the dataset\n",
    "for images, labels in train_loader:  \n",
    "    print('Image batch dimensions:', images.shape)\n",
    "    print('Image label dimensions:', labels.shape)\n",
    "    break"
   ]
  },
  {
   "cell_type": "markdown",
   "metadata": {},
   "source": [
    "## Model"
   ]
  },
  {
   "cell_type": "code",
   "execution_count": 119,
   "metadata": {},
   "outputs": [],
   "source": [
    "torch.manual_seed(random_seed)\n",
    "model = generative_lib.VAE(num_features, num_hidden_1, num_latent)"
   ]
  },
  {
   "cell_type": "markdown",
   "metadata": {},
   "source": [
    "## COST AND OPTIMIZER"
   ]
  },
  {
   "cell_type": "code",
   "execution_count": 120,
   "metadata": {},
   "outputs": [],
   "source": [
    "model = model.to(\"cpu\")\n",
    "optimizer = torch.optim.Adam(model.parameters(), lr=learning_rate)  "
   ]
  },
  {
   "cell_type": "markdown",
   "metadata": {},
   "source": [
    "## Training"
   ]
  },
  {
   "cell_type": "code",
   "execution_count": 121,
   "metadata": {},
   "outputs": [
    {
     "name": "stdout",
     "output_type": "stream",
     "text": [
      "Epoch: 001/006 | Batch 000/2142 | Cost: 15494.8496\n",
      "Epoch: 001/006 | Batch 050/2142 | Cost: 8723.1357\n",
      "Epoch: 001/006 | Batch 100/2142 | Cost: 9044.9561\n",
      "Epoch: 001/006 | Batch 150/2142 | Cost: 8742.3867\n",
      "Epoch: 001/006 | Batch 200/2142 | Cost: 7493.7505\n",
      "Epoch: 001/006 | Batch 250/2142 | Cost: 6686.1738\n",
      "Epoch: 001/006 | Batch 300/2142 | Cost: 8497.6533\n",
      "Epoch: 001/006 | Batch 350/2142 | Cost: 7460.3701\n",
      "Epoch: 001/006 | Batch 400/2142 | Cost: 7093.2852\n",
      "Epoch: 001/006 | Batch 450/2142 | Cost: 7634.7915\n",
      "Epoch: 001/006 | Batch 500/2142 | Cost: 7293.7021\n",
      "Epoch: 001/006 | Batch 550/2142 | Cost: 7169.8940\n",
      "Epoch: 001/006 | Batch 600/2142 | Cost: 7570.3438\n",
      "Epoch: 001/006 | Batch 650/2142 | Cost: 7664.7900\n",
      "Epoch: 001/006 | Batch 700/2142 | Cost: 7028.7520\n",
      "Epoch: 001/006 | Batch 750/2142 | Cost: 7240.1685\n",
      "Epoch: 001/006 | Batch 800/2142 | Cost: 7283.7339\n",
      "Epoch: 001/006 | Batch 850/2142 | Cost: 7131.3418\n",
      "Epoch: 001/006 | Batch 900/2142 | Cost: 7342.2622\n",
      "Epoch: 001/006 | Batch 950/2142 | Cost: 7072.0674\n",
      "Epoch: 001/006 | Batch 1000/2142 | Cost: 7669.2046\n",
      "Epoch: 001/006 | Batch 1050/2142 | Cost: 6910.0181\n",
      "Epoch: 001/006 | Batch 1100/2142 | Cost: 6094.2266\n",
      "Epoch: 001/006 | Batch 1150/2142 | Cost: 6885.7368\n",
      "Epoch: 001/006 | Batch 1200/2142 | Cost: 7156.5464\n",
      "Epoch: 001/006 | Batch 1250/2142 | Cost: 6742.8442\n",
      "Epoch: 001/006 | Batch 1300/2142 | Cost: 7017.9692\n",
      "Epoch: 001/006 | Batch 1350/2142 | Cost: 6939.8076\n",
      "Epoch: 001/006 | Batch 1400/2142 | Cost: 7698.5708\n",
      "Epoch: 001/006 | Batch 1450/2142 | Cost: 6404.1392\n",
      "Epoch: 001/006 | Batch 1500/2142 | Cost: 6437.0781\n",
      "Epoch: 001/006 | Batch 1550/2142 | Cost: 6766.9136\n",
      "Epoch: 001/006 | Batch 1600/2142 | Cost: 7253.5044\n",
      "Epoch: 001/006 | Batch 1650/2142 | Cost: 6955.9248\n",
      "Epoch: 001/006 | Batch 1700/2142 | Cost: 6757.4404\n",
      "Epoch: 001/006 | Batch 1750/2142 | Cost: 7006.5244\n",
      "Epoch: 001/006 | Batch 1800/2142 | Cost: 7745.0195\n",
      "Epoch: 001/006 | Batch 1850/2142 | Cost: 6199.3135\n",
      "Epoch: 001/006 | Batch 1900/2142 | Cost: 7444.1528\n",
      "Epoch: 001/006 | Batch 1950/2142 | Cost: 6527.5757\n",
      "Epoch: 001/006 | Batch 2000/2142 | Cost: 7368.7031\n",
      "Epoch: 001/006 | Batch 2050/2142 | Cost: 7190.7153\n",
      "Epoch: 001/006 | Batch 2100/2142 | Cost: 6911.0669\n",
      "Epoch: 002/006 | Batch 000/2142 | Cost: 7174.5527\n",
      "Epoch: 002/006 | Batch 050/2142 | Cost: 7595.8145\n",
      "Epoch: 002/006 | Batch 100/2142 | Cost: 7404.9849\n",
      "Epoch: 002/006 | Batch 150/2142 | Cost: 6914.8691\n",
      "Epoch: 002/006 | Batch 200/2142 | Cost: 6648.6006\n",
      "Epoch: 002/006 | Batch 250/2142 | Cost: 6751.1577\n",
      "Epoch: 002/006 | Batch 300/2142 | Cost: 7021.7148\n",
      "Epoch: 002/006 | Batch 350/2142 | Cost: 6468.9014\n",
      "Epoch: 002/006 | Batch 400/2142 | Cost: 7513.2271\n",
      "Epoch: 002/006 | Batch 450/2142 | Cost: 7168.8945\n",
      "Epoch: 002/006 | Batch 500/2142 | Cost: 6895.2300\n",
      "Epoch: 002/006 | Batch 550/2142 | Cost: 7106.7832\n",
      "Epoch: 002/006 | Batch 600/2142 | Cost: 6553.1455\n",
      "Epoch: 002/006 | Batch 650/2142 | Cost: 7056.3408\n",
      "Epoch: 002/006 | Batch 700/2142 | Cost: 6375.8442\n",
      "Epoch: 002/006 | Batch 750/2142 | Cost: 6542.2754\n",
      "Epoch: 002/006 | Batch 800/2142 | Cost: 6775.7222\n",
      "Epoch: 002/006 | Batch 850/2142 | Cost: 6816.6133\n",
      "Epoch: 002/006 | Batch 900/2142 | Cost: 6631.8750\n",
      "Epoch: 002/006 | Batch 950/2142 | Cost: 6848.1230\n",
      "Epoch: 002/006 | Batch 1000/2142 | Cost: 6740.3491\n",
      "Epoch: 002/006 | Batch 1050/2142 | Cost: 6798.8057\n",
      "Epoch: 002/006 | Batch 1100/2142 | Cost: 7156.7305\n",
      "Epoch: 002/006 | Batch 1150/2142 | Cost: 6811.6108\n",
      "Epoch: 002/006 | Batch 1200/2142 | Cost: 7040.8438\n",
      "Epoch: 002/006 | Batch 1250/2142 | Cost: 6912.5547\n",
      "Epoch: 002/006 | Batch 1300/2142 | Cost: 7026.4609\n",
      "Epoch: 002/006 | Batch 1350/2142 | Cost: 6842.1230\n",
      "Epoch: 002/006 | Batch 1400/2142 | Cost: 6779.6777\n",
      "Epoch: 002/006 | Batch 1450/2142 | Cost: 6686.3037\n",
      "Epoch: 002/006 | Batch 1500/2142 | Cost: 6964.4629\n",
      "Epoch: 002/006 | Batch 1550/2142 | Cost: 6948.0156\n",
      "Epoch: 002/006 | Batch 1600/2142 | Cost: 6682.7051\n",
      "Epoch: 002/006 | Batch 1650/2142 | Cost: 8480.8271\n",
      "Epoch: 002/006 | Batch 1700/2142 | Cost: 6955.8374\n",
      "Epoch: 002/006 | Batch 1750/2142 | Cost: 7054.6401\n",
      "Epoch: 002/006 | Batch 1800/2142 | Cost: 6753.8613\n",
      "Epoch: 002/006 | Batch 1850/2142 | Cost: 7936.9219\n",
      "Epoch: 002/006 | Batch 1900/2142 | Cost: 6734.6299\n",
      "Epoch: 002/006 | Batch 1950/2142 | Cost: 6428.2969\n",
      "Epoch: 002/006 | Batch 2000/2142 | Cost: 6652.2476\n",
      "Epoch: 002/006 | Batch 2050/2142 | Cost: 6767.7441\n",
      "Epoch: 002/006 | Batch 2100/2142 | Cost: 6317.3892\n",
      "Epoch: 003/006 | Batch 000/2142 | Cost: 6897.2139\n",
      "Epoch: 003/006 | Batch 050/2142 | Cost: 6817.9775\n",
      "Epoch: 003/006 | Batch 100/2142 | Cost: 7051.9346\n",
      "Epoch: 003/006 | Batch 150/2142 | Cost: 6633.8926\n",
      "Epoch: 003/006 | Batch 200/2142 | Cost: 7201.8423\n",
      "Epoch: 003/006 | Batch 250/2142 | Cost: 6880.0996\n",
      "Epoch: 003/006 | Batch 300/2142 | Cost: 6779.9136\n",
      "Epoch: 003/006 | Batch 350/2142 | Cost: 6542.6016\n",
      "Epoch: 003/006 | Batch 400/2142 | Cost: 7392.5801\n",
      "Epoch: 003/006 | Batch 450/2142 | Cost: 7211.7305\n",
      "Epoch: 003/006 | Batch 500/2142 | Cost: 6878.2803\n",
      "Epoch: 003/006 | Batch 550/2142 | Cost: 7255.4307\n",
      "Epoch: 003/006 | Batch 600/2142 | Cost: 6818.1011\n",
      "Epoch: 003/006 | Batch 650/2142 | Cost: 7114.2603\n",
      "Epoch: 003/006 | Batch 700/2142 | Cost: 6657.4829\n",
      "Epoch: 003/006 | Batch 750/2142 | Cost: 7083.0464\n",
      "Epoch: 003/006 | Batch 800/2142 | Cost: 7047.5933\n",
      "Epoch: 003/006 | Batch 850/2142 | Cost: 6491.6157\n",
      "Epoch: 003/006 | Batch 900/2142 | Cost: 6309.2280\n",
      "Epoch: 003/006 | Batch 950/2142 | Cost: 5974.2041\n",
      "Epoch: 003/006 | Batch 1000/2142 | Cost: 6660.2729\n",
      "Epoch: 003/006 | Batch 1050/2142 | Cost: 7174.5078\n",
      "Epoch: 003/006 | Batch 1100/2142 | Cost: 6326.2451\n",
      "Epoch: 003/006 | Batch 1150/2142 | Cost: 6974.7271\n",
      "Epoch: 003/006 | Batch 1200/2142 | Cost: 6783.5620\n",
      "Epoch: 003/006 | Batch 1250/2142 | Cost: 6574.8433\n",
      "Epoch: 003/006 | Batch 1300/2142 | Cost: 6960.9395\n",
      "Epoch: 003/006 | Batch 1350/2142 | Cost: 6758.3438\n",
      "Epoch: 003/006 | Batch 1400/2142 | Cost: 6671.3696\n",
      "Epoch: 003/006 | Batch 1450/2142 | Cost: 5957.6973\n",
      "Epoch: 003/006 | Batch 1500/2142 | Cost: 6614.1104\n",
      "Epoch: 003/006 | Batch 1550/2142 | Cost: 7346.4653\n",
      "Epoch: 003/006 | Batch 1600/2142 | Cost: 7027.6328\n",
      "Epoch: 003/006 | Batch 1650/2142 | Cost: 6781.8633\n",
      "Epoch: 003/006 | Batch 1700/2142 | Cost: 7286.1187\n",
      "Epoch: 003/006 | Batch 1750/2142 | Cost: 7225.3091\n",
      "Epoch: 003/006 | Batch 1800/2142 | Cost: 6635.5205\n",
      "Epoch: 003/006 | Batch 1850/2142 | Cost: 7353.6558\n",
      "Epoch: 003/006 | Batch 1900/2142 | Cost: 6925.1982\n",
      "Epoch: 003/006 | Batch 1950/2142 | Cost: 7168.1523\n",
      "Epoch: 003/006 | Batch 2000/2142 | Cost: 6710.1846\n",
      "Epoch: 003/006 | Batch 2050/2142 | Cost: 6997.9194\n",
      "Epoch: 003/006 | Batch 2100/2142 | Cost: 6900.0200\n",
      "Epoch: 004/006 | Batch 000/2142 | Cost: 6246.9023\n",
      "Epoch: 004/006 | Batch 050/2142 | Cost: 5902.7476\n",
      "Epoch: 004/006 | Batch 100/2142 | Cost: 5930.9136\n",
      "Epoch: 004/006 | Batch 150/2142 | Cost: 7071.9482\n",
      "Epoch: 004/006 | Batch 200/2142 | Cost: 7295.1230\n",
      "Epoch: 004/006 | Batch 250/2142 | Cost: 7308.3062\n",
      "Epoch: 004/006 | Batch 300/2142 | Cost: 6679.0625\n",
      "Epoch: 004/006 | Batch 350/2142 | Cost: 6849.9790\n",
      "Epoch: 004/006 | Batch 400/2142 | Cost: 6234.1177\n",
      "Epoch: 004/006 | Batch 450/2142 | Cost: 6366.4238\n",
      "Epoch: 004/006 | Batch 500/2142 | Cost: 6489.4663\n",
      "Epoch: 004/006 | Batch 550/2142 | Cost: 6637.9448\n",
      "Epoch: 004/006 | Batch 600/2142 | Cost: 6926.4712\n",
      "Epoch: 004/006 | Batch 650/2142 | Cost: 6402.1108\n",
      "Epoch: 004/006 | Batch 700/2142 | Cost: 7166.8184\n",
      "Epoch: 004/006 | Batch 750/2142 | Cost: 6429.2715\n",
      "Epoch: 004/006 | Batch 800/2142 | Cost: 7147.4888\n",
      "Epoch: 004/006 | Batch 850/2142 | Cost: 6585.8120\n",
      "Epoch: 004/006 | Batch 900/2142 | Cost: 6630.3955\n",
      "Epoch: 004/006 | Batch 950/2142 | Cost: 7243.4390\n",
      "Epoch: 004/006 | Batch 1000/2142 | Cost: 6432.6240\n",
      "Epoch: 004/006 | Batch 1050/2142 | Cost: 6628.8779\n",
      "Epoch: 004/006 | Batch 1100/2142 | Cost: 6878.0278\n",
      "Epoch: 004/006 | Batch 1150/2142 | Cost: 6868.7051\n",
      "Epoch: 004/006 | Batch 1200/2142 | Cost: 6808.9453\n",
      "Epoch: 004/006 | Batch 1250/2142 | Cost: 7005.0659\n",
      "Epoch: 004/006 | Batch 1300/2142 | Cost: 6638.3511\n",
      "Epoch: 004/006 | Batch 1350/2142 | Cost: 6917.4951\n",
      "Epoch: 004/006 | Batch 1400/2142 | Cost: 7135.4814\n",
      "Epoch: 004/006 | Batch 1450/2142 | Cost: 6608.6973\n",
      "Epoch: 004/006 | Batch 1500/2142 | Cost: 6450.1045\n",
      "Epoch: 004/006 | Batch 1550/2142 | Cost: 7361.8394\n",
      "Epoch: 004/006 | Batch 1600/2142 | Cost: 6922.9014\n",
      "Epoch: 004/006 | Batch 1650/2142 | Cost: 7376.2822\n"
     ]
    },
    {
     "name": "stdout",
     "output_type": "stream",
     "text": [
      "Epoch: 004/006 | Batch 1700/2142 | Cost: 6564.4927\n",
      "Epoch: 004/006 | Batch 1750/2142 | Cost: 6934.0786\n",
      "Epoch: 004/006 | Batch 1800/2142 | Cost: 7117.3472\n",
      "Epoch: 004/006 | Batch 1850/2142 | Cost: 6472.4160\n",
      "Epoch: 004/006 | Batch 1900/2142 | Cost: 6721.6289\n",
      "Epoch: 004/006 | Batch 1950/2142 | Cost: 6261.3755\n",
      "Epoch: 004/006 | Batch 2000/2142 | Cost: 6841.9487\n",
      "Epoch: 004/006 | Batch 2050/2142 | Cost: 6705.4331\n",
      "Epoch: 004/006 | Batch 2100/2142 | Cost: 6635.4424\n",
      "Epoch: 005/006 | Batch 000/2142 | Cost: 6129.7705\n",
      "Epoch: 005/006 | Batch 050/2142 | Cost: 6925.8081\n",
      "Epoch: 005/006 | Batch 100/2142 | Cost: 6642.2236\n",
      "Epoch: 005/006 | Batch 150/2142 | Cost: 7045.8228\n",
      "Epoch: 005/006 | Batch 200/2142 | Cost: 6653.1523\n",
      "Epoch: 005/006 | Batch 250/2142 | Cost: 6839.0776\n",
      "Epoch: 005/006 | Batch 300/2142 | Cost: 7023.4595\n",
      "Epoch: 005/006 | Batch 350/2142 | Cost: 6736.3120\n",
      "Epoch: 005/006 | Batch 400/2142 | Cost: 6839.3760\n",
      "Epoch: 005/006 | Batch 450/2142 | Cost: 6812.1357\n",
      "Epoch: 005/006 | Batch 500/2142 | Cost: 6458.2046\n",
      "Epoch: 005/006 | Batch 550/2142 | Cost: 6480.2490\n",
      "Epoch: 005/006 | Batch 600/2142 | Cost: 6745.1147\n",
      "Epoch: 005/006 | Batch 650/2142 | Cost: 7064.2100\n",
      "Epoch: 005/006 | Batch 700/2142 | Cost: 6579.1255\n",
      "Epoch: 005/006 | Batch 750/2142 | Cost: 6315.9272\n",
      "Epoch: 005/006 | Batch 800/2142 | Cost: 6927.3818\n",
      "Epoch: 005/006 | Batch 850/2142 | Cost: 6645.0933\n",
      "Epoch: 005/006 | Batch 900/2142 | Cost: 6303.5234\n",
      "Epoch: 005/006 | Batch 950/2142 | Cost: 6317.2412\n",
      "Epoch: 005/006 | Batch 1000/2142 | Cost: 6663.5664\n",
      "Epoch: 005/006 | Batch 1050/2142 | Cost: 6661.8149\n",
      "Epoch: 005/006 | Batch 1100/2142 | Cost: 6731.7202\n",
      "Epoch: 005/006 | Batch 1150/2142 | Cost: 6886.7915\n",
      "Epoch: 005/006 | Batch 1200/2142 | Cost: 6649.6836\n",
      "Epoch: 005/006 | Batch 1250/2142 | Cost: 7172.3115\n",
      "Epoch: 005/006 | Batch 1300/2142 | Cost: 6408.2100\n",
      "Epoch: 005/006 | Batch 1350/2142 | Cost: 7251.1929\n",
      "Epoch: 005/006 | Batch 1400/2142 | Cost: 6723.2422\n",
      "Epoch: 005/006 | Batch 1450/2142 | Cost: 6753.1924\n",
      "Epoch: 005/006 | Batch 1500/2142 | Cost: 6790.3628\n",
      "Epoch: 005/006 | Batch 1550/2142 | Cost: 6229.4731\n",
      "Epoch: 005/006 | Batch 1600/2142 | Cost: 6900.4619\n",
      "Epoch: 005/006 | Batch 1650/2142 | Cost: 6692.3242\n",
      "Epoch: 005/006 | Batch 1700/2142 | Cost: 6806.2808\n",
      "Epoch: 005/006 | Batch 1750/2142 | Cost: 6500.0054\n",
      "Epoch: 005/006 | Batch 1800/2142 | Cost: 6736.7915\n",
      "Epoch: 005/006 | Batch 1850/2142 | Cost: 7235.5439\n",
      "Epoch: 005/006 | Batch 1900/2142 | Cost: 6611.2207\n",
      "Epoch: 005/006 | Batch 1950/2142 | Cost: 6914.4849\n",
      "Epoch: 005/006 | Batch 2000/2142 | Cost: 6283.5566\n",
      "Epoch: 005/006 | Batch 2050/2142 | Cost: 6457.8730\n",
      "Epoch: 005/006 | Batch 2100/2142 | Cost: 6109.7144\n",
      "Epoch: 006/006 | Batch 000/2142 | Cost: 6575.7256\n",
      "Epoch: 006/006 | Batch 050/2142 | Cost: 6229.5415\n",
      "Epoch: 006/006 | Batch 100/2142 | Cost: 6784.5698\n",
      "Epoch: 006/006 | Batch 150/2142 | Cost: 6694.0962\n",
      "Epoch: 006/006 | Batch 200/2142 | Cost: 6618.2007\n",
      "Epoch: 006/006 | Batch 250/2142 | Cost: 6849.9385\n",
      "Epoch: 006/006 | Batch 300/2142 | Cost: 6657.9478\n",
      "Epoch: 006/006 | Batch 350/2142 | Cost: 7309.9058\n",
      "Epoch: 006/006 | Batch 400/2142 | Cost: 6193.9551\n",
      "Epoch: 006/006 | Batch 450/2142 | Cost: 6553.5029\n",
      "Epoch: 006/006 | Batch 500/2142 | Cost: 6667.6270\n",
      "Epoch: 006/006 | Batch 550/2142 | Cost: 6436.1064\n",
      "Epoch: 006/006 | Batch 600/2142 | Cost: 6464.1860\n",
      "Epoch: 006/006 | Batch 650/2142 | Cost: 7100.6885\n",
      "Epoch: 006/006 | Batch 700/2142 | Cost: 6121.0640\n",
      "Epoch: 006/006 | Batch 750/2142 | Cost: 7239.3589\n",
      "Epoch: 006/006 | Batch 800/2142 | Cost: 6563.8071\n",
      "Epoch: 006/006 | Batch 850/2142 | Cost: 6875.5850\n",
      "Epoch: 006/006 | Batch 900/2142 | Cost: 6861.5225\n",
      "Epoch: 006/006 | Batch 950/2142 | Cost: 6931.7715\n",
      "Epoch: 006/006 | Batch 1000/2142 | Cost: 6449.3291\n",
      "Epoch: 006/006 | Batch 1050/2142 | Cost: 6728.4521\n",
      "Epoch: 006/006 | Batch 1100/2142 | Cost: 6889.0205\n",
      "Epoch: 006/006 | Batch 1150/2142 | Cost: 7310.1909\n",
      "Epoch: 006/006 | Batch 1200/2142 | Cost: 6577.2139\n",
      "Epoch: 006/006 | Batch 1250/2142 | Cost: 6391.0757\n",
      "Epoch: 006/006 | Batch 1300/2142 | Cost: 7052.5210\n",
      "Epoch: 006/006 | Batch 1350/2142 | Cost: 6794.2979\n",
      "Epoch: 006/006 | Batch 1400/2142 | Cost: 6992.4805\n",
      "Epoch: 006/006 | Batch 1450/2142 | Cost: 6917.2944\n",
      "Epoch: 006/006 | Batch 1500/2142 | Cost: 6879.1499\n",
      "Epoch: 006/006 | Batch 1550/2142 | Cost: 6274.0049\n",
      "Epoch: 006/006 | Batch 1600/2142 | Cost: 6203.5063\n",
      "Epoch: 006/006 | Batch 1650/2142 | Cost: 6552.8022\n",
      "Epoch: 006/006 | Batch 1700/2142 | Cost: 7974.0078\n",
      "Epoch: 006/006 | Batch 1750/2142 | Cost: 6391.5469\n",
      "Epoch: 006/006 | Batch 1800/2142 | Cost: 6703.4292\n",
      "Epoch: 006/006 | Batch 1850/2142 | Cost: 6923.2476\n",
      "Epoch: 006/006 | Batch 1900/2142 | Cost: 6771.8779\n",
      "Epoch: 006/006 | Batch 1950/2142 | Cost: 7367.9370\n",
      "Epoch: 006/006 | Batch 2000/2142 | Cost: 6696.5088\n",
      "Epoch: 006/006 | Batch 2050/2142 | Cost: 7368.3115\n",
      "Epoch: 006/006 | Batch 2100/2142 | Cost: 6757.4780\n"
     ]
    }
   ],
   "source": [
    "for epoch in range(num_epochs):\n",
    "    for batch_idx, (features, targets) in enumerate(train_loader):\n",
    "        \n",
    "        # don't need labels, only the images (features)\n",
    "        features = features.view(-1, 28*28)\n",
    "\n",
    "        ### FORWARD AND BACK PROP\n",
    "        z_mean, z_log_var, encoded, decoded = model(features)\n",
    "\n",
    "        # cost = reconstruction loss + Kullback-Leibler divergence\n",
    "        kl_divergence = (0.5 * (z_mean**2 + \n",
    "                                torch.exp(z_log_var) - z_log_var - 1)).sum()\n",
    "        pixelwise_bce = F.binary_cross_entropy(decoded, features, size_average=False)\n",
    "        cost = kl_divergence + pixelwise_bce\n",
    "        \n",
    "        optimizer.zero_grad()\n",
    "        cost.backward()\n",
    "        \n",
    "        ### UPDATE MODEL PARAMETERS\n",
    "        optimizer.step()\n",
    "        \n",
    "        ### LOGGING\n",
    "        if not batch_idx % 50:\n",
    "            print ('Epoch: %03d/%03d | Batch %03d/%03d | Cost: %.4f' \n",
    "                   %(epoch+1, num_epochs, batch_idx, \n",
    "                     len(train_dataset)//batch_size, cost))"
   ]
  },
  {
   "cell_type": "markdown",
   "metadata": {},
   "source": [
    "## Evaluation"
   ]
  },
  {
   "cell_type": "markdown",
   "metadata": {},
   "source": [
    "### Trainset"
   ]
  },
  {
   "cell_type": "code",
   "execution_count": 122,
   "metadata": {},
   "outputs": [
    {
     "data": {
      "text/plain": [
       "torch.Size([9, 784])"
      ]
     },
     "execution_count": 122,
     "metadata": {},
     "output_type": "execute_result"
    }
   ],
   "source": [
    "orig_images.shape"
   ]
  },
  {
   "cell_type": "code",
   "execution_count": 123,
   "metadata": {},
   "outputs": [],
   "source": [
    "n_images = 9\n",
    "image_width = 28\n",
    "\n",
    "orig_images = features[:n_images]\n",
    "\n",
    "# test of encoder/decoder \n",
    "[enc,z_mean,z_log_var] = model.encoder(orig_images)\n",
    "dec = model.decoder(enc)"
   ]
  },
  {
   "cell_type": "code",
   "execution_count": 124,
   "metadata": {},
   "outputs": [
    {
     "data": {
      "image/png": "[encoded data removed]",
      "text/plain": [
       "<matplotlib.figure.Figure at 0xa258bb198>"
      ]
     },
     "metadata": {},
     "output_type": "display_data"
    }
   ],
   "source": [
    "# reconstruction of train set\n",
    "fig, axes = plt.subplots(nrows=2, ncols=n_images, \n",
    "                         sharex=True, sharey=True, figsize=(20, 2.5))\n",
    "\n",
    "for i in range(n_images):\n",
    "    for ax, img in zip(axes, [orig_images, dec]):\n",
    "        ax[i].imshow(img[i].detach().reshape((image_width, image_width)), cmap='binary')"
   ]
  },
  {
   "cell_type": "markdown",
   "metadata": {},
   "source": [
    "### Test set"
   ]
  },
  {
   "cell_type": "code",
   "execution_count": 125,
   "metadata": {},
   "outputs": [
    {
     "data": {
      "text/plain": [
       "<matplotlib.image.AxesImage at 0xa2e604dd8>"
      ]
     },
     "execution_count": 125,
     "metadata": {},
     "output_type": "execute_result"
    },
    {
     "data": {
      "image/png": "[encoded data removed]",
      "text/plain": [
       "<matplotlib.figure.Figure at 0xa25805eb8>"
      ]
     },
     "metadata": {},
     "output_type": "display_data"
    }
   ],
   "source": [
    "# Random img in the test set\n",
    "test_img = test_dataset[random.randint(0, len(test_dataset))][0]\n",
    "plt.imshow(test_img.reshape([image_width,image_width]),cmap='binary')"
   ]
  },
  {
   "cell_type": "code",
   "execution_count": 126,
   "metadata": {},
   "outputs": [
    {
     "data": {
      "text/plain": [
       "<matplotlib.image.AxesImage at 0xa29728a58>"
      ]
     },
     "execution_count": 126,
     "metadata": {},
     "output_type": "execute_result"
    },
    {
     "data": {
      "image/png": "[encoded data removed]",
      "text/plain": [
       "<matplotlib.figure.Figure at 0xa2f0af4e0>"
      ]
     },
     "metadata": {},
     "output_type": "display_data"
    }
   ],
   "source": [
    "# Reconstruction using autoencoder\n",
    "[test_enc,z_mean,z_log_var] = model.encoder(test_img.reshape([1,image_width*image_width]))\n",
    "test_dec = model.decoder(test_enc).detach().numpy()\n",
    "\n",
    "plt.imshow(test_dec.reshape([image_width,image_width]),cmap='binary')"
   ]
  },
  {
   "cell_type": "markdown",
   "metadata": {},
   "source": [
    "## Latent Codes"
   ]
  },
  {
   "cell_type": "code",
   "execution_count": 127,
   "metadata": {},
   "outputs": [],
   "source": [
    "batch_size = len(train_dataset)\n",
    "batch_size_test = len(test_dataset)\n",
    "SHUFFLE_TR = False\n",
    "SHUFFLE_TS = False\n",
    "\n",
    "Xtrain = DataLoader(dataset=train_dataset, batch_size=batch_size, shuffle=SHUFFLE_TR)\n",
    "Xtest = DataLoader(dataset=test_dataset, batch_size=batch_size_test, shuffle=SHUFFLE_TS)"
   ]
  },
  {
   "cell_type": "code",
   "execution_count": 128,
   "metadata": {},
   "outputs": [
    {
     "name": "stdout",
     "output_type": "stream",
     "text": [
      "0\n"
     ]
    }
   ],
   "source": [
    "for batch_idx, (features, targets_tr) in enumerate(Xtrain):\n",
    "    features_tr = features.view(-1, 28*28)\n",
    "print(batch_idx)"
   ]
  },
  {
   "cell_type": "code",
   "execution_count": 129,
   "metadata": {},
   "outputs": [
    {
     "data": {
      "text/plain": [
       "torch.Size([60000, 784])"
      ]
     },
     "execution_count": 129,
     "metadata": {},
     "output_type": "execute_result"
    }
   ],
   "source": [
    "features_tr.shape"
   ]
  },
  {
   "cell_type": "code",
   "execution_count": 130,
   "metadata": {},
   "outputs": [
    {
     "name": "stdout",
     "output_type": "stream",
     "text": [
      "torch.Size([60000, 15])\n",
      "torch.Size([60000])\n"
     ]
    }
   ],
   "source": [
    "[latent_tr,z_mean,z_log_var] = model.encoder(features_tr)\n",
    "print(latent_tr.shape)\n",
    "print(targets_tr.shape)"
   ]
  },
  {
   "cell_type": "code",
   "execution_count": 131,
   "metadata": {},
   "outputs": [
    {
     "name": "stdout",
     "output_type": "stream",
     "text": [
      "0\n"
     ]
    }
   ],
   "source": [
    "for batch_idx, (features, targets_ts) in enumerate(Xtest):\n",
    "    features_ts = features.view(-1, 28*28)\n",
    "print(batch_idx)"
   ]
  },
  {
   "cell_type": "code",
   "execution_count": 132,
   "metadata": {},
   "outputs": [
    {
     "name": "stdout",
     "output_type": "stream",
     "text": [
      "torch.Size([10000, 15])\n",
      "torch.Size([10000])\n"
     ]
    }
   ],
   "source": [
    "[latent_ts,z_mean,z_log_var] = model.encoder(features_ts)\n",
    "print(latent_ts.shape)\n",
    "print(targets_ts.shape)"
   ]
  },
  {
   "cell_type": "code",
   "execution_count": 133,
   "metadata": {},
   "outputs": [],
   "source": [
    "torch.save(latent_tr, 'VAE_FMNIST-latent_tr.pth')\n",
    "torch.save(latent_ts, 'VAE_FMNIST-latent_ts.pth')\n",
    "\n",
    "torch.save(targets_tr, 'VAE_FMNIST-targets_tr.pth')\n",
    "torch.save(targets_ts, 'VAE_FMNIST-targets_ts.pth')"
   ]
  },
  {
   "cell_type": "code",
   "execution_count": null,
   "metadata": {},
   "outputs": [],
   "source": []
  }
 ],
 "metadata": {
  "kernelspec": {
   "display_name": "Python [conda env:DL]",
   "language": "python",
   "name": "conda-env-DL-py"
  },
  "language_info": {
   "codemirror_mode": {
    "name": "ipython",
    "version": 3
   },
   "file_extension": ".py",
   "mimetype": "text/x-python",
   "name": "python",
   "nbconvert_exporter": "python",
   "pygments_lexer": "ipython3",
   "version": "3.6.7"
  },
  "toc": {
   "nav_menu": {},
   "number_sections": true,
   "sideBar": true,
   "skip_h1_title": false,
   "title_cell": "Table of Contents",
   "title_sidebar": "Contents",
   "toc_cell": false,
   "toc_position": {},
   "toc_section_display": true,
   "toc_window_display": true
  }
 },
 "nbformat": 4,
 "nbformat_minor": 2
}
