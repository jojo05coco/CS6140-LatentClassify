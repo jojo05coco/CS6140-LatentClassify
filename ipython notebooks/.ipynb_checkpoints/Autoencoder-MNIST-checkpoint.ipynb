{
 "cells": [
  {
   "cell_type": "markdown",
   "metadata": {},
   "source": [
    "# Autoencoder"
   ]
  },
  {
   "cell_type": "code",
   "execution_count": 1,
   "metadata": {},
   "outputs": [],
   "source": [
    "%matplotlib inline\n",
    "import matplotlib.pyplot as plt"
   ]
  },
  {
   "cell_type": "code",
   "execution_count": 2,
   "metadata": {},
   "outputs": [
    {
     "name": "stdout",
     "output_type": "stream",
     "text": [
      "3.6.7 |Anaconda, Inc.| (default, Oct 23 2018, 14:01:38) \n",
      "[GCC 4.2.1 Compatible Clang 4.0.1 (tags/RELEASE_401/final)]\n"
     ]
    }
   ],
   "source": [
    "import sys\n",
    "print (sys.version)"
   ]
  },
  {
   "cell_type": "code",
   "execution_count": 3,
   "metadata": {},
   "outputs": [],
   "source": [
    "import numpy as np\n",
    "import matplotlib.pyplot as plt\n",
    "%matplotlib inline\n",
    "from mpl_toolkits.mplot3d import Axes3D\n",
    "import importlib\n",
    "import pandas as pd\n",
    "from scipy.stats import bernoulli\n",
    "from matplotlib import cm\n",
    "from numpy import linalg as LA\n",
    "from mpl_toolkits.mplot3d import Axes3D # This import has side effects required for the kwarg projection='3d' in the call to fig.add_subplot\n",
    "import random\n",
    "\n",
    "import generative_lib"
   ]
  },
  {
   "cell_type": "code",
   "execution_count": 90,
   "metadata": {},
   "outputs": [
    {
     "data": {
      "text/plain": [
       "<module 'generative_lib' from '/Users/joriococola/Desktop/CS 6140/project 6140/GitHub/CS6140_LatentClassify/ipython notebooks/generative_lib.py'>"
      ]
     },
     "execution_count": 90,
     "metadata": {},
     "output_type": "execute_result"
    }
   ],
   "source": [
    "importlib.reload(generative_lib)"
   ]
  },
  {
   "cell_type": "code",
   "execution_count": 5,
   "metadata": {},
   "outputs": [],
   "source": [
    "import torch\n",
    "import torch.nn.functional as F\n",
    "from torchvision import datasets\n",
    "from torchvision import transforms\n",
    "from torch.utils.data import DataLoader\n",
    "from torch.autograd import Variable"
   ]
  },
  {
   "cell_type": "markdown",
   "metadata": {},
   "source": [
    "## Setting"
   ]
  },
  {
   "cell_type": "code",
   "execution_count": 6,
   "metadata": {},
   "outputs": [],
   "source": [
    "# Dataset\n",
    "DOWNLOAD = False\n",
    "SHUFFLE_TR = True\n",
    "SHUFFLE_TS = False\n",
    "\n",
    "# Architecture\n",
    "num_features = 784\n",
    "num_hidden_1 = 32\n",
    "random_seed  = 123\n",
    "\n",
    "# Training\n",
    "batch_size = 28\n",
    "learning_rate = 0.005\n",
    "num_epochs = 6"
   ]
  },
  {
   "cell_type": "markdown",
   "metadata": {},
   "source": [
    "## MNIST DATASET"
   ]
  },
  {
   "cell_type": "code",
   "execution_count": 7,
   "metadata": {},
   "outputs": [],
   "source": [
    "# Note transforms.ToTensor() scales input images to 0-1 range\n",
    "train_dataset = datasets.MNIST(root='data', \n",
    "                               train=True, \n",
    "                               transform=transforms.ToTensor(),\n",
    "                               download=DOWNLOAD)\n",
    "\n",
    "test_dataset = datasets.MNIST(root='data', \n",
    "                              train=False, \n",
    "                              transform=transforms.ToTensor())"
   ]
  },
  {
   "cell_type": "code",
   "execution_count": 8,
   "metadata": {},
   "outputs": [
    {
     "name": "stdout",
     "output_type": "stream",
     "text": [
      "Image batch dimensions: torch.Size([28, 1, 28, 28])\n",
      "Image label dimensions: torch.Size([28])\n"
     ]
    }
   ],
   "source": [
    "train_loader = DataLoader(dataset=train_dataset, \n",
    "                          batch_size=batch_size, \n",
    "                          shuffle=SHUFFLE_TR)\n",
    "\n",
    "test_loader = DataLoader(dataset=test_dataset, \n",
    "                         batch_size=batch_size, \n",
    "                         shuffle=SHUFFLE_TS)\n",
    "\n",
    "# Checking the dataset\n",
    "for images, labels in train_loader:  \n",
    "    print('Image batch dimensions:', images.shape)\n",
    "    print('Image label dimensions:', labels.shape)\n",
    "    break"
   ]
  },
  {
   "cell_type": "markdown",
   "metadata": {},
   "source": [
    "## Model"
   ]
  },
  {
   "cell_type": "code",
   "execution_count": 9,
   "metadata": {},
   "outputs": [],
   "source": [
    "torch.manual_seed(random_seed)\n",
    "model = generative_lib.AE_1L(num_features,num_hidden_1)"
   ]
  },
  {
   "cell_type": "markdown",
   "metadata": {},
   "source": [
    "## COST AND OPTIMIZER"
   ]
  },
  {
   "cell_type": "code",
   "execution_count": 10,
   "metadata": {},
   "outputs": [],
   "source": [
    "cost_fn = torch.nn.BCELoss() #torch.nn.MSELoss() \n",
    "optimizer = torch.optim.Adam(model.parameters(), lr=learning_rate) "
   ]
  },
  {
   "cell_type": "markdown",
   "metadata": {},
   "source": [
    "## Training"
   ]
  },
  {
   "cell_type": "code",
   "execution_count": 11,
   "metadata": {},
   "outputs": [
    {
     "name": "stdout",
     "output_type": "stream",
     "text": [
      "Epoch: 001/006 | Batch 000/2142 | Cost: 0.6981\n",
      "Epoch: 001/006 | Batch 500/2142 | Cost: 0.1268\n",
      "Epoch: 001/006 | Batch 1000/2142 | Cost: 0.1039\n",
      "Epoch: 001/006 | Batch 1500/2142 | Cost: 0.1072\n",
      "Epoch: 001/006 | Batch 2000/2142 | Cost: 0.1057\n",
      "Epoch: 002/006 | Batch 000/2142 | Cost: 0.1004\n",
      "Epoch: 002/006 | Batch 500/2142 | Cost: 0.1041\n",
      "Epoch: 002/006 | Batch 1000/2142 | Cost: 0.1046\n",
      "Epoch: 002/006 | Batch 1500/2142 | Cost: 0.0912\n",
      "Epoch: 002/006 | Batch 2000/2142 | Cost: 0.0929\n",
      "Epoch: 003/006 | Batch 000/2142 | Cost: 0.0981\n",
      "Epoch: 003/006 | Batch 500/2142 | Cost: 0.0968\n",
      "Epoch: 003/006 | Batch 1000/2142 | Cost: 0.0976\n",
      "Epoch: 003/006 | Batch 1500/2142 | Cost: 0.0878\n",
      "Epoch: 003/006 | Batch 2000/2142 | Cost: 0.1088\n",
      "Epoch: 004/006 | Batch 000/2142 | Cost: 0.0912\n",
      "Epoch: 004/006 | Batch 500/2142 | Cost: 0.0950\n",
      "Epoch: 004/006 | Batch 1000/2142 | Cost: 0.0999\n",
      "Epoch: 004/006 | Batch 1500/2142 | Cost: 0.1001\n",
      "Epoch: 004/006 | Batch 2000/2142 | Cost: 0.0963\n",
      "Epoch: 005/006 | Batch 000/2142 | Cost: 0.0902\n",
      "Epoch: 005/006 | Batch 500/2142 | Cost: 0.0960\n",
      "Epoch: 005/006 | Batch 1000/2142 | Cost: 0.1030\n",
      "Epoch: 005/006 | Batch 1500/2142 | Cost: 0.0924\n",
      "Epoch: 005/006 | Batch 2000/2142 | Cost: 0.0885\n",
      "Epoch: 006/006 | Batch 000/2142 | Cost: 0.1002\n",
      "Epoch: 006/006 | Batch 500/2142 | Cost: 0.1023\n",
      "Epoch: 006/006 | Batch 1000/2142 | Cost: 0.1056\n",
      "Epoch: 006/006 | Batch 1500/2142 | Cost: 0.0975\n",
      "Epoch: 006/006 | Batch 2000/2142 | Cost: 0.1014\n"
     ]
    }
   ],
   "source": [
    "for epoch in range(num_epochs):\n",
    "    for batch_idx, (features, targets) in enumerate(train_loader):\n",
    "        \n",
    "        # don't need labels, only the images (features)\n",
    "        features = features.view(-1, 28*28)\n",
    "            \n",
    "        ### FORWARD AND BACK PROP\n",
    "        decoded = model(features)\n",
    "        cost = cost_fn(decoded, features)\n",
    "        optimizer.zero_grad()\n",
    "        \n",
    "        cost.backward()\n",
    "        \n",
    "        ### UPDATE MODEL PARAMETERS\n",
    "        optimizer.step()\n",
    "        \n",
    "        ### LOGGING\n",
    "        if not batch_idx % 500:\n",
    "            print ('Epoch: %03d/%03d | Batch %03d/%03d | Cost: %.4f' \n",
    "                   %(epoch+1, num_epochs, batch_idx, \n",
    "                     len(train_dataset)//batch_size, cost))"
   ]
  },
  {
   "cell_type": "markdown",
   "metadata": {},
   "source": [
    "## Evaluation"
   ]
  },
  {
   "cell_type": "markdown",
   "metadata": {},
   "source": [
    "### Trainset"
   ]
  },
  {
   "cell_type": "code",
   "execution_count": 12,
   "metadata": {},
   "outputs": [],
   "source": [
    "n_images = 9\n",
    "image_width = 28\n",
    "\n",
    "orig_images = features[:n_images]\n",
    "\n",
    "# test of encoder/decoder \n",
    "enc = model.encoder(orig_images)\n",
    "dec = model.decoder(enc)"
   ]
  },
  {
   "cell_type": "code",
   "execution_count": 13,
   "metadata": {},
   "outputs": [
    {
     "data": {
      "image/png": "[encoded data removed]",
      "text/plain": [
       "<matplotlib.figure.Figure at 0xa1fe0fb00>"
      ]
     },
     "metadata": {},
     "output_type": "display_data"
    }
   ],
   "source": [
    "# reconstruction of train set\n",
    "fig, axes = plt.subplots(nrows=2, ncols=n_images, \n",
    "                         sharex=True, sharey=True, figsize=(20, 2.5))\n",
    "\n",
    "for i in range(n_images):\n",
    "    for ax, img in zip(axes, [orig_images, dec]):\n",
    "        ax[i].imshow(img[i].detach().reshape((image_width, image_width)), cmap='binary')"
   ]
  },
  {
   "cell_type": "markdown",
   "metadata": {},
   "source": [
    "### Test set"
   ]
  },
  {
   "cell_type": "code",
   "execution_count": 14,
   "metadata": {},
   "outputs": [
    {
     "data": {
      "text/plain": [
       "<matplotlib.image.AxesImage at 0xa27231a58>"
      ]
     },
     "execution_count": 14,
     "metadata": {},
     "output_type": "execute_result"
    },
    {
     "data": {
      "image/png": "[encoded data removed]",
      "text/plain": [
       "<matplotlib.figure.Figure at 0xa27170278>"
      ]
     },
     "metadata": {},
     "output_type": "display_data"
    }
   ],
   "source": [
    "# Random img in the test set\n",
    "test_img = test_dataset[random.randint(0, len(test_dataset))][0]\n",
    "plt.imshow(test_img.reshape([image_width,image_width]),cmap='binary')"
   ]
  },
  {
   "cell_type": "code",
   "execution_count": 15,
   "metadata": {},
   "outputs": [
    {
     "data": {
      "text/plain": [
       "<matplotlib.image.AxesImage at 0xa27429d30>"
      ]
     },
     "execution_count": 15,
     "metadata": {},
     "output_type": "execute_result"
    },
    {
     "data": {
      "image/png": "[encoded data removed]",
      "text/plain": [
       "<matplotlib.figure.Figure at 0x50d89b160>"
      ]
     },
     "metadata": {},
     "output_type": "display_data"
    }
   ],
   "source": [
    "# Reconstruction using autoencoder\n",
    "\n",
    "test_enc = model.encoder(test_img.reshape(image_width*image_width))\n",
    "test_dec = model.decoder(test_enc).detach().numpy()\n",
    "\n",
    "plt.imshow(test_dec.reshape([image_width,image_width]),cmap='binary')"
   ]
  },
  {
   "cell_type": "code",
   "execution_count": 16,
   "metadata": {},
   "outputs": [
    {
     "data": {
      "text/plain": [
       "(784,)"
      ]
     },
     "execution_count": 16,
     "metadata": {},
     "output_type": "execute_result"
    }
   ],
   "source": [
    "test_dec.shape"
   ]
  },
  {
   "cell_type": "markdown",
   "metadata": {},
   "source": [
    "## Latent Codes Through Encoder"
   ]
  },
  {
   "cell_type": "code",
   "execution_count": 17,
   "metadata": {},
   "outputs": [],
   "source": [
    "batch_size = len(train_dataset)\n",
    "batch_size_test = len(test_dataset)\n",
    "SHUFFLE_TR = False\n",
    "SHUFFLE_TS = False\n",
    "\n",
    "Xtrain = DataLoader(dataset=train_dataset, batch_size=batch_size, shuffle=SHUFFLE_TR)\n",
    "Xtest = DataLoader(dataset=test_dataset, batch_size=batch_size_test, shuffle=SHUFFLE_TS)"
   ]
  },
  {
   "cell_type": "code",
   "execution_count": 18,
   "metadata": {},
   "outputs": [
    {
     "name": "stdout",
     "output_type": "stream",
     "text": [
      "0\n"
     ]
    }
   ],
   "source": [
    "for batch_idx, (features_tr, targets_tr) in enumerate(Xtrain):\n",
    "    features_tr = features_tr.view(-1, 28*28)\n",
    "print(batch_idx)"
   ]
  },
  {
   "cell_type": "code",
   "execution_count": 136,
   "metadata": {},
   "outputs": [
    {
     "data": {
      "text/plain": [
       "60000"
      ]
     },
     "execution_count": 136,
     "metadata": {},
     "output_type": "execute_result"
    }
   ],
   "source": []
  },
  {
   "cell_type": "code",
   "execution_count": 19,
   "metadata": {},
   "outputs": [
    {
     "data": {
      "text/plain": [
       "torch.Size([60000, 784])"
      ]
     },
     "execution_count": 19,
     "metadata": {},
     "output_type": "execute_result"
    }
   ],
   "source": [
    "features_tr.shape"
   ]
  },
  {
   "cell_type": "code",
   "execution_count": 20,
   "metadata": {},
   "outputs": [
    {
     "name": "stdout",
     "output_type": "stream",
     "text": [
      "torch.Size([60000, 32])\n",
      "torch.Size([60000])\n"
     ]
    }
   ],
   "source": [
    "latent_tr = model.encoder(features_tr)\n",
    "print(latent_tr.shape)\n",
    "print(targets_tr.shape)"
   ]
  },
  {
   "cell_type": "code",
   "execution_count": 21,
   "metadata": {},
   "outputs": [
    {
     "name": "stdout",
     "output_type": "stream",
     "text": [
      "0\n"
     ]
    }
   ],
   "source": [
    "for batch_idx, (features_ts, targets_ts) in enumerate(Xtest):\n",
    "    features_ts = features_ts.view(-1, 28*28)\n",
    "print(batch_idx)"
   ]
  },
  {
   "cell_type": "code",
   "execution_count": 22,
   "metadata": {},
   "outputs": [
    {
     "name": "stdout",
     "output_type": "stream",
     "text": [
      "torch.Size([10000, 32])\n",
      "torch.Size([10000])\n"
     ]
    }
   ],
   "source": [
    "latent_ts = model.encoder(features_ts)\n",
    "print(latent_ts.shape)\n",
    "print(targets_ts.shape)"
   ]
  },
  {
   "cell_type": "code",
   "execution_count": 46,
   "metadata": {},
   "outputs": [],
   "source": [
    "torch.save(latent_tr, 'AE_MNIST-latent_tr.pth')\n",
    "torch.save(latent_ts, 'AE_MNIST-latent_ts.pth')\n",
    "\n",
    "torch.save(targets_tr, 'AE_MNIST-targets_tr.pth')\n",
    "torch.save(targets_ts, 'AE_MNIST-targets_ts.pth')"
   ]
  },
  {
   "cell_type": "markdown",
   "metadata": {},
   "source": [
    "# Creating Generator from AE"
   ]
  },
  {
   "cell_type": "code",
   "execution_count": 23,
   "metadata": {},
   "outputs": [],
   "source": [
    "generator = generative_lib.AE_1L_gen(num_features,num_hidden_1)"
   ]
  },
  {
   "cell_type": "code",
   "execution_count": 24,
   "metadata": {},
   "outputs": [],
   "source": [
    "# copying weight in the generator\n",
    "net_weight_dict = model.state_dict()\n",
    "gen_weight_dict = {}\n",
    "\n",
    "gen_weight_dict['linear_2.weight'] = net_weight_dict['linear_2.weight']\n",
    "gen_weight_dict['linear_2.bias']   = net_weight_dict['linear_2.bias']\n",
    "\n",
    "generator.load_state_dict(gen_weight_dict)"
   ]
  },
  {
   "cell_type": "code",
   "execution_count": 25,
   "metadata": {},
   "outputs": [],
   "source": [
    "# freeze weigths\n",
    "generative_lib.froze_weights(generator)"
   ]
  },
  {
   "cell_type": "markdown",
   "metadata": {},
   "source": [
    "# Projection"
   ]
  },
  {
   "cell_type": "code",
   "execution_count": 158,
   "metadata": {},
   "outputs": [
    {
     "data": {
      "text/plain": [
       "<matplotlib.image.AxesImage at 0xa383ce6a0>"
      ]
     },
     "execution_count": 158,
     "metadata": {},
     "output_type": "execute_result"
    },
    {
     "data": {
      "image/png": "[encoded data removed]",
      "text/plain": [
       "<matplotlib.figure.Figure at 0xa383a20f0>"
      ]
     },
     "metadata": {},
     "output_type": "display_data"
    }
   ],
   "source": [
    "# Random img in the test set\n",
    "test_img = test_dataset[random.randint(0, len(test_dataset))][0]\n",
    "plt.imshow(test_img.reshape([image_width,image_width]),cmap='binary')"
   ]
  },
  {
   "cell_type": "code",
   "execution_count": 159,
   "metadata": {},
   "outputs": [
    {
     "data": {
      "text/plain": [
       "<matplotlib.image.AxesImage at 0xa44afa128>"
      ]
     },
     "execution_count": 159,
     "metadata": {},
     "output_type": "execute_result"
    },
    {
     "data": {
      "image/png": "[encoded data removed]",
      "text/plain": [
       "<matplotlib.figure.Figure at 0xa37de7390>"
      ]
     },
     "metadata": {},
     "output_type": "display_data"
    }
   ],
   "source": [
    "# Reconstruction using autoencoder\n",
    "test_enc = model.encoder(test_img.reshape(image_width*image_width))\n",
    "test_dec = model.decoder(test_enc).detach().numpy()\n",
    "\n",
    "plt.imshow(test_dec.reshape([image_width,image_width]),cmap='binary')"
   ]
  },
  {
   "cell_type": "code",
   "execution_count": 177,
   "metadata": {},
   "outputs": [
    {
     "data": {
      "text/plain": [
       "<matplotlib.image.AxesImage at 0xa44f53160>"
      ]
     },
     "execution_count": 177,
     "metadata": {},
     "output_type": "execute_result"
    },
    {
     "data": {
      "image/png": "[encoded data removed]",
      "text/plain": [
       "<matplotlib.figure.Figure at 0xa44d37278>"
      ]
     },
     "metadata": {},
     "output_type": "display_data"
    }
   ],
   "source": [
    "# reconstruction by projection\n",
    "maxit = 500\n",
    "gamma  = 0.5\n",
    "x0    = test_enc*20-10\n",
    "Gstar = test_img.reshape(image_width*image_width) #model.decoder(test_enc).detach()\n",
    "rand_init = 5\n",
    "sigma = 5\n",
    "\n",
    "[l2_loss_var,xk2] = generative_lib.Full_Projection(generator, Gstar, maxit, gamma, rand_init, sigma, x0, generative_lib.L2_Project)\n",
    "\n",
    "pctk2 = generator(xk2)\n",
    "plt.imshow(pctk2.cpu().detach().numpy().reshape(28,28),  cmap='Greys')"
   ]
  },
  {
   "cell_type": "markdown",
   "metadata": {},
   "source": [
    "## L1 Projection"
   ]
  },
  {
   "cell_type": "code",
   "execution_count": 178,
   "metadata": {},
   "outputs": [
    {
     "data": {
      "text/plain": [
       "<matplotlib.image.AxesImage at 0xa450631d0>"
      ]
     },
     "execution_count": 178,
     "metadata": {},
     "output_type": "execute_result"
    },
    {
     "data": {
      "image/png": "[encoded data removed]",
      "text/plain": [
       "<matplotlib.figure.Figure at 0xa44da5470>"
      ]
     },
     "metadata": {},
     "output_type": "display_data"
    }
   ],
   "source": [
    "# reconstruction by projection\n",
    "maxit = 500\n",
    "gamma  = 0.6\n",
    "x0    = 20*test_enc-10\n",
    "Gstar = test_img.reshape(image_width*image_width) #model.decoder(test_enc).detach()\n",
    "rand_init = 5\n",
    "sigma = 5\n",
    "\n",
    "[l2_loss_var,xk1] = generative_lib.Full_Projection(generator, Gstar, maxit, gamma, rand_init, sigma, x0, generative_lib.L1_Project)\n",
    "\n",
    "pctk1 = generator(xk1)\n",
    "plt.imshow(pctk1.cpu().detach().numpy().reshape(28,28),  cmap='Greys')"
   ]
  },
  {
   "cell_type": "code",
   "execution_count": 179,
   "metadata": {},
   "outputs": [
    {
     "name": "stdout",
     "output_type": "stream",
     "text": [
      "tensor(3.3978)\n"
     ]
    }
   ],
   "source": [
    "# Reconstruction with pure AE\n",
    "tmp = test_dec.reshape(image_width*image_width) - test_img.reshape(image_width*image_width)\n",
    "print(torch.norm(tmp))"
   ]
  },
  {
   "cell_type": "code",
   "execution_count": 180,
   "metadata": {},
   "outputs": [
    {
     "name": "stdout",
     "output_type": "stream",
     "text": [
      "tensor(3.0487)\n"
     ]
    }
   ],
   "source": [
    "# Reconstruction with L2 projection\n",
    "tmp = pctk2.reshape(image_width*image_width) - test_img.reshape(image_width*image_width)\n",
    "print(torch.norm(tmp))"
   ]
  },
  {
   "cell_type": "code",
   "execution_count": 181,
   "metadata": {},
   "outputs": [
    {
     "name": "stdout",
     "output_type": "stream",
     "text": [
      "tensor(3.5894)\n"
     ]
    }
   ],
   "source": [
    "# Reconstruction with L1 projection\n",
    "tmp = pctk1.reshape(image_width*image_width) - test_img.reshape(image_width*image_width)\n",
    "print(torch.norm(tmp))"
   ]
  },
  {
   "cell_type": "markdown",
   "metadata": {},
   "source": [
    "## Latent Codes Through Projection"
   ]
  },
  {
   "cell_type": "code",
   "execution_count": 190,
   "metadata": {},
   "outputs": [],
   "source": [
    "# reconstruction by projection\n",
    "maxit = 500\n",
    "gamma  = 0.5\n",
    "x0    = torch.zeros(num_hidden_1)\n",
    "Gstar = test_img.reshape(image_width*image_width) #model.decoder(test_enc).detach()\n",
    "rand_init = 1\n",
    "sigma = 5\n",
    "\n",
    "L2_latent_tr = torch.zeros([len(train_dataset),num_hidden_1])\n",
    "l2_loss = 0"
   ]
  },
  {
   "cell_type": "code",
   "execution_count": 191,
   "metadata": {},
   "outputs": [],
   "source": [
    "def tic():\n",
    "    #Homemade version of matlab tic and toc functions\n",
    "    import time\n",
    "    global startTime_for_tictoc\n",
    "    startTime_for_tictoc = time.time()\n",
    "\n",
    "def toc():\n",
    "    import time\n",
    "    if 'startTime_for_tictoc' in globals():\n",
    "        print(\"Elapsed time is \" + str(time.time() - startTime_for_tictoc) + \" seconds.\")\n",
    "    else:\n",
    "        print(\"Toc: start time not set\")"
   ]
  },
  {
   "cell_type": "code",
   "execution_count": 192,
   "metadata": {},
   "outputs": [
    {
     "name": "stdout",
     "output_type": "stream",
     "text": [
      "Elapsed time is 58.86629509925842 seconds.\n"
     ]
    }
   ],
   "source": [
    "# L2 projection of train\n",
    "\n",
    "tic()\n",
    "for (i,img) in enumerate(features_tr):\n",
    "    [l2_loss_var,xk2] = generative_lib.Full_Projection(generator, img, maxit, gamma, rand_init, sigma, x0, generative_lib.L2_Project)\n",
    "    l2_loss += l2_loss_var.detach().numpy()\n",
    "    L2_latent_tr[i,:] = xk2\n",
    "    if(i > 300):\n",
    "        break\n",
    "toc()"
   ]
  }
 ],
 "metadata": {
  "kernelspec": {
   "display_name": "Python [default]",
   "language": "python",
   "name": "python3"
  },
  "language_info": {
   "codemirror_mode": {
    "name": "ipython",
    "version": 3
   },
   "file_extension": ".py",
   "mimetype": "text/x-python",
   "name": "python",
   "nbconvert_exporter": "python",
   "pygments_lexer": "ipython3",
   "version": "3.6.7"
  },
  "toc": {
   "nav_menu": {},
   "number_sections": true,
   "sideBar": true,
   "skip_h1_title": false,
   "title_cell": "Table of Contents",
   "title_sidebar": "Contents",
   "toc_cell": false,
   "toc_position": {},
   "toc_section_display": true,
   "toc_window_display": true
  }
 },
 "nbformat": 4,
 "nbformat_minor": 2
}
