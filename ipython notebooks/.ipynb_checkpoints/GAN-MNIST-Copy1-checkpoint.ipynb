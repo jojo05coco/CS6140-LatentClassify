{
 "cells": [
  {
   "cell_type": "code",
   "execution_count": 1,
   "metadata": {},
   "outputs": [],
   "source": [
    "%matplotlib inline"
   ]
  },
  {
   "cell_type": "code",
   "execution_count": 2,
   "metadata": {},
   "outputs": [],
   "source": [
    "import itertools\n",
    "import math\n",
    "import time\n",
    "\n",
    "import torch\n",
    "import torchvision\n",
    "import torch.nn as nn\n",
    "import torchvision.datasets as dsets\n",
    "import torchvision.transforms as transforms\n",
    "import matplotlib.pyplot as plt\n",
    "from IPython import display\n",
    "from torch.autograd import Variable"
   ]
  },
  {
   "cell_type": "markdown",
   "metadata": {},
   "source": [
    "## Load Generator"
   ]
  },
  {
   "cell_type": "code",
   "execution_count": 6,
   "metadata": {},
   "outputs": [],
   "source": [
    "hidden = 15\n",
    "class Generator(nn.Module):\n",
    "    def __init__(self):\n",
    "        super().__init__()\n",
    "        self.model = nn.Sequential(\n",
    "            nn.Linear(hidden, 30, bias = False),\n",
    "            nn.ReLU(inplace=True),\n",
    "            nn.Linear(30, 50, bias = False),\n",
    "            nn.ReLU(inplace=True),\n",
    "            nn.Linear(50, 100, bias = False),\n",
    "            nn.ReLU(inplace=True),\n",
    "            nn.Linear(100, 784, bias = False),\n",
    "            nn.Tanh()\n",
    "        )\n",
    "    \n",
    "    def forward(self, x):\n",
    "        x = x.view(x.size(0), hidden)\n",
    "        out = self.model(x)\n",
    "        return out"
   ]
  },
  {
   "cell_type": "code",
   "execution_count": 8,
   "metadata": {},
   "outputs": [
    {
     "data": {
      "text/plain": [
       "Generator(\n",
       "  (model): Sequential(\n",
       "    (0): Linear(in_features=15, out_features=30, bias=False)\n",
       "    (1): ReLU(inplace)\n",
       "    (2): Linear(in_features=30, out_features=50, bias=False)\n",
       "    (3): ReLU(inplace)\n",
       "    (4): Linear(in_features=50, out_features=100, bias=False)\n",
       "    (5): ReLU(inplace)\n",
       "    (6): Linear(in_features=100, out_features=784, bias=False)\n",
       "    (7): Tanh()\n",
       "  )\n",
       ")"
      ]
     },
     "execution_count": 8,
     "metadata": {},
     "output_type": "execute_result"
    }
   ],
   "source": [
    "generator = Generator()\n",
    "generator.load_state_dict(torch.load('trained_gan.pt' ,map_location='cpu'))\n",
    "generator.eval()"
   ]
  },
  {
   "cell_type": "code",
   "execution_count": 9,
   "metadata": {},
   "outputs": [],
   "source": [
    "# freeze weigths\n",
    "def froze_weights(net):\n",
    "    for param in net.parameters():\n",
    "        param.requires_grad = False"
   ]
  },
  {
   "cell_type": "code",
   "execution_count": 10,
   "metadata": {},
   "outputs": [],
   "source": [
    "froze_weights(generator)"
   ]
  },
  {
   "cell_type": "markdown",
   "metadata": {},
   "source": [
    "## Projection Step"
   ]
  },
  {
   "cell_type": "code",
   "execution_count": 12,
   "metadata": {},
   "outputs": [
    {
     "data": {
      "text/plain": [
       "<matplotlib.image.AxesImage at 0xa1d6b6240>"
      ]
     },
     "execution_count": 12,
     "metadata": {},
     "output_type": "execute_result"
    },
    {
     "data": {
      "image/png": "[encoded data removed]",
      "text/plain": [
       "<matplotlib.figure.Figure at 0xa1d74d400>"
      ]
     },
     "metadata": {},
     "output_type": "display_data"
    }
   ],
   "source": [
    "xstar = 2*torch.randn([1,hidden])-1\n",
    "img_star = generator(xstar)\n",
    "plt.imshow(img_star.detach().numpy().reshape(28,28),  cmap='Greys')"
   ]
  },
  {
   "cell_type": "code",
   "execution_count": 41,
   "metadata": {},
   "outputs": [],
   "source": [
    "gamma = 0.0007;\n",
    "steps = 2000;\n",
    "ninit = 5\n",
    "min_loss = 10000;\n",
    "xmin     = 0;"
   ]
  },
  {
   "cell_type": "code",
   "execution_count": 38,
   "metadata": {},
   "outputs": [
    {
     "name": "stdout",
     "output_type": "stream",
     "text": [
      "Iteration:  1 \n",
      "loss:  531.49036\n",
      "|x^star - xk| 20.037975\n",
      "Iteration:  251 \n",
      "loss:  528.58856\n",
      "|x^star - xk| 20.040792\n",
      "Iteration:  501 \n",
      "loss:  527.37317\n",
      "|x^star - xk| 20.03902\n",
      "Iteration:  751 \n",
      "loss:  526.6089\n",
      "|x^star - xk| 20.035093\n",
      "Iteration:  1001 \n",
      "loss:  525.9194\n",
      "|x^star - xk| 20.029642\n",
      "Iteration:  1251 \n",
      "loss:  524.5047\n",
      "|x^star - xk| 20.02117\n",
      "Iteration:  1501 \n",
      "loss:  522.5351\n",
      "|x^star - xk| 20.009823\n",
      "Iteration:  1751 \n",
      "loss:  520.22766\n",
      "|x^star - xk| 19.998682\n",
      "Iteration:  2001 \n",
      "loss:  517.2057\n",
      "|x^star - xk| 19.988478\n",
      "Iteration:  2251 \n",
      "loss:  516.64264\n",
      "|x^star - xk| 19.983252\n",
      "Iteration:  2501 \n",
      "loss:  516.0349\n",
      "|x^star - xk| 19.97941\n",
      "Iteration:  2751 \n",
      "loss:  515.52826\n",
      "|x^star - xk| 19.976963\n",
      "Iteration:  3001 \n",
      "loss:  515.1643\n",
      "|x^star - xk| 19.975779\n",
      "Iteration:  3251 \n",
      "loss:  514.86365\n",
      "|x^star - xk| 19.975225\n",
      "Iteration:  3501 \n",
      "loss:  514.6057\n",
      "|x^star - xk| 19.975073\n",
      "Iteration:  3751 \n",
      "loss:  514.3799\n",
      "|x^star - xk| 19.975237\n",
      "Iteration:  4001 \n",
      "loss:  514.17834\n",
      "|x^star - xk| 19.975641\n",
      "Iteration:  4251 \n",
      "loss:  513.99585\n",
      "|x^star - xk| 19.97626\n",
      "Iteration:  4501 \n",
      "loss:  513.8279\n",
      "|x^star - xk| 19.977005\n",
      "Iteration:  4751 \n",
      "loss:  513.67163\n",
      "|x^star - xk| 19.977827\n",
      "Iteration:  5001 \n",
      "loss:  513.5244\n",
      "|x^star - xk| 19.978722\n",
      "Iteration:  5251 \n",
      "loss:  513.3838\n",
      "|x^star - xk| 19.979622\n",
      "Iteration:  5501 \n",
      "loss:  513.24744\n",
      "|x^star - xk| 19.980564\n",
      "Iteration:  5751 \n",
      "loss:  513.1124\n",
      "|x^star - xk| 19.981438\n",
      "Iteration:  6001 \n",
      "loss:  512.97473\n",
      "|x^star - xk| 19.982208\n",
      "Iteration:  6251 \n",
      "loss:  512.8242\n",
      "|x^star - xk| 19.982801\n",
      "Iteration:  6501 \n",
      "loss:  512.6264\n",
      "|x^star - xk| 19.982939\n",
      "Iteration:  6751 \n",
      "loss:  511.96796\n",
      "|x^star - xk| 19.981369\n",
      "Iteration:  7001 \n",
      "loss:  500.6867\n",
      "|x^star - xk| 19.973404\n",
      "Iteration:  7251 \n",
      "loss:  499.25604\n",
      "|x^star - xk| 19.972397\n",
      "Iteration:  7501 \n",
      "loss:  498.50113\n",
      "|x^star - xk| 19.971851\n",
      "Iteration:  7751 \n",
      "loss:  495.63635\n",
      "|x^star - xk| 19.972036\n",
      "Iteration:  8001 \n",
      "loss:  492.02054\n",
      "|x^star - xk| 19.972229\n",
      "Iteration:  8251 \n",
      "loss:  491.27222\n",
      "|x^star - xk| 19.971663\n",
      "Iteration:  8501 \n",
      "loss:  490.88007\n",
      "|x^star - xk| 19.970852\n",
      "Iteration:  8751 \n",
      "loss:  490.6345\n",
      "|x^star - xk| 19.969791\n",
      "Iteration:  9001 \n",
      "loss:  490.48013\n",
      "|x^star - xk| 19.968143\n",
      "Iteration:  9251 \n",
      "loss:  490.36743\n",
      "|x^star - xk| 19.966253\n",
      "Iteration:  9501 \n",
      "loss:  490.2758\n",
      "|x^star - xk| 19.964241\n",
      "Iteration:  9751 \n",
      "loss:  490.19714\n",
      "|x^star - xk| 19.962198\n",
      "Iteration:  10001 \n",
      "loss:  490.1267\n",
      "|x^star - xk| 19.96016\n",
      "Iteration:  10251 \n",
      "loss:  490.06192\n",
      "|x^star - xk| 19.958166\n",
      "Iteration:  10501 \n",
      "loss:  490.0024\n",
      "|x^star - xk| 19.95623\n",
      "Iteration:  10751 \n",
      "loss:  489.94626\n",
      "|x^star - xk| 19.954315\n",
      "Iteration:  11001 \n",
      "loss:  489.89346\n",
      "|x^star - xk| 19.952444\n",
      "Iteration:  11251 \n",
      "loss:  489.84348\n",
      "|x^star - xk| 19.95061\n",
      "Iteration:  11501 \n",
      "loss:  489.79572\n",
      "|x^star - xk| 19.948814\n",
      "Iteration:  11751 \n",
      "loss:  489.75003\n",
      "|x^star - xk| 19.947054\n",
      "Iteration:  12001 \n",
      "loss:  489.7064\n",
      "|x^star - xk| 19.945383\n",
      "Iteration:  12251 \n",
      "loss:  489.66467\n",
      "|x^star - xk| 19.943747\n",
      "Iteration:  12501 \n",
      "loss:  489.62357\n",
      "|x^star - xk| 19.942144\n",
      "Iteration:  12751 \n",
      "loss:  489.58374\n",
      "|x^star - xk| 19.940588\n",
      "Iteration:  13001 \n",
      "loss:  489.54517\n",
      "|x^star - xk| 19.939089\n",
      "Iteration:  13251 \n",
      "loss:  489.50693\n",
      "|x^star - xk| 19.937643\n",
      "Iteration:  13501 \n",
      "loss:  489.47006\n",
      "|x^star - xk| 19.936243\n",
      "Iteration:  13751 \n",
      "loss:  489.4337\n",
      "|x^star - xk| 19.934864\n",
      "Iteration:  14001 \n",
      "loss:  489.39856\n",
      "|x^star - xk| 19.933634\n",
      "Iteration:  14251 \n",
      "loss:  489.3669\n",
      "|x^star - xk| 19.932724\n",
      "Iteration:  14501 \n",
      "loss:  489.07397\n",
      "|x^star - xk| 19.931204\n",
      "Iteration:  14751 \n",
      "loss:  488.5767\n",
      "|x^star - xk| 19.929232\n",
      "Iteration:  15001 \n",
      "loss:  488.29697\n",
      "|x^star - xk| 19.927605\n",
      "Iteration:  15251 \n",
      "loss:  488.12662\n",
      "|x^star - xk| 19.926134\n",
      "Iteration:  15501 \n",
      "loss:  488.01108\n",
      "|x^star - xk| 19.924763\n",
      "Iteration:  15751 \n",
      "loss:  487.92413\n",
      "|x^star - xk| 19.923466\n",
      "Iteration:  16001 \n",
      "loss:  487.85022\n",
      "|x^star - xk| 19.922226\n",
      "Iteration:  16251 \n",
      "loss:  487.78375\n",
      "|x^star - xk| 19.921038\n",
      "Iteration:  16501 \n",
      "loss:  487.71906\n",
      "|x^star - xk| 19.919891\n",
      "Iteration:  16751 \n",
      "loss:  487.65436\n",
      "|x^star - xk| 19.918774\n",
      "Iteration:  17001 \n",
      "loss:  487.58823\n",
      "|x^star - xk| 19.917706\n",
      "Iteration:  17251 \n",
      "loss:  487.51865\n",
      "|x^star - xk| 19.91666\n",
      "Iteration:  17501 \n",
      "loss:  487.46777\n",
      "|x^star - xk| 19.915707\n",
      "Iteration:  17751 \n",
      "loss:  487.43915\n",
      "|x^star - xk| 19.914915\n",
      "Iteration:  18001 \n",
      "loss:  487.41226\n",
      "|x^star - xk| 19.914177\n",
      "Iteration:  18251 \n",
      "loss:  487.3853\n",
      "|x^star - xk| 19.913437\n",
      "Iteration:  18501 \n",
      "loss:  487.35803\n",
      "|x^star - xk| 19.912756\n",
      "Iteration:  18751 \n",
      "loss:  487.33008\n",
      "|x^star - xk| 19.912077\n",
      "Iteration:  19001 \n",
      "loss:  487.3007\n",
      "|x^star - xk| 19.911423\n",
      "Iteration:  19251 \n",
      "loss:  487.27054\n",
      "|x^star - xk| 19.910776\n",
      "Iteration:  19501 \n",
      "loss:  487.23914\n",
      "|x^star - xk| 19.910192\n",
      "Iteration:  19751 \n",
      "loss:  487.2063\n",
      "|x^star - xk| 19.909615\n"
     ]
    },
    {
     "data": {
      "text/plain": [
       "<matplotlib.image.AxesImage at 0xa217fbbe0>"
      ]
     },
     "execution_count": 38,
     "metadata": {},
     "output_type": "execute_result"
    },
    {
     "data": {
      "image/png": "[encoded data removed]",
      "text/plain": [
       "<matplotlib.figure.Figure at 0xa2166dc88>"
      ]
     },
     "metadata": {},
     "output_type": "display_data"
    }
   ],
   "source": [
    "for j in range(init):\n",
    "    xk = Variable(torch.randn(xstar.size()), requires_grad=True)\n",
    "    for i in range(steps):\n",
    "        Gxk = generator(xk);\n",
    "        l2_loss_var = ((Gxk-img_star).norm())**2\n",
    "        l2_loss_var.backward()\n",
    "        xk.data -= gamma*xk.grad.data\n",
    "        xk.grad.data.zero_();\n",
    "        if(i%2500 == 0):\n",
    "            print('Iteration: ', i+1, '\\nloss: ', l2_loss_var.detach().numpy());\n",
    "            print('|x^star - xk|', (xstar-xk).norm().detach().numpy());\n",
    "        pctk = generator(xk)\n",
    "        plt.imshow(pctk.detach().numpy().reshape(28,28),  cmap='Greys')"
   ]
  },
  {
   "cell_type": "code",
   "execution_count": null,
   "metadata": {},
   "outputs": [],
   "source": []
  }
 ],
 "metadata": {
  "kernelspec": {
   "display_name": "Python [default]",
   "language": "python",
   "name": "python3"
  },
  "language_info": {
   "codemirror_mode": {
    "name": "ipython",
    "version": 3
   },
   "file_extension": ".py",
   "mimetype": "text/x-python",
   "name": "python",
   "nbconvert_exporter": "python",
   "pygments_lexer": "ipython3",
   "version": "3.6.7"
  }
 },
 "nbformat": 4,
 "nbformat_minor": 2
}
